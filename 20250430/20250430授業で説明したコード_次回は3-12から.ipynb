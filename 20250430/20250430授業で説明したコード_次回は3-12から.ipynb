{
  "nbformat": 4,
  "nbformat_minor": 0,
  "metadata": {
    "colab": {
      "provenance": [],
      "toc_visible": true
    },
    "kernelspec": {
      "name": "python3",
      "display_name": "Python 3"
    },
    "language_info": {
      "name": "python"
    }
  },
  "cells": [
    {
      "cell_type": "markdown",
      "metadata": {
        "id": "p7mKtJi76QEL"
      },
      "source": [
        "# 第2部　PythonとJupyter Notebookの基本"
      ]
    },
    {
      "cell_type": "markdown",
      "source": [
        "## 3章　Pythonによるプログラミングの基本\n",
        "\n",
        "本書ではPythonにおけるプログラミングの基本を説明します。最初のうちは基本的な文法の説明です。最初はすべてを覚えきる必要はりません。忘れてしまったら、その時に本章をもう一度確認してください。ただし、本章の最後で解説している「使いやすいプログラムを書くコツ」については確実に目を通してください。"
      ],
      "metadata": {
        "id": "67DY-G6GhpFF"
      }
    },
    {
      "cell_type": "markdown",
      "metadata": {
        "id": "owo6LYiQ6QEN"
      },
      "source": [
        "### 3-1 実装：四則演算\n",
        "\n",
        "まずは四則演算の実行方法を解説します。実装パートでは節の頭に「実装」と表記しています。\n",
        "画面に合わせて灰色の四角で「In[ ]」と書かれた入力行を表すことにします。足し算を実行する場合は+記号を使います。引き算は-記号を使います。次は掛け算です。*記号を使います。割り算は/記号を使います。割り算の時だけ少し注意が必要です。計算結果に小数点がつきました。"
      ]
    },
    {
      "cell_type": "code",
      "execution_count": 1,
      "metadata": {
        "id": "GrpE0Pvy6QEO",
        "colab": {
          "base_uri": "https://localhost:8080/"
        },
        "outputId": "b88a5358-98aa-45d5-9c99-c3aab88a08aa"
      },
      "outputs": [
        {
          "output_type": "execute_result",
          "data": {
            "text/plain": [
              "2"
            ]
          },
          "metadata": {},
          "execution_count": 1
        }
      ],
      "source": [
        "1 + 1"
      ]
    },
    {
      "cell_type": "code",
      "execution_count": 2,
      "metadata": {
        "id": "R8i7ygfg6QEP",
        "colab": {
          "base_uri": "https://localhost:8080/"
        },
        "outputId": "f340f592-7cc2-48e8-8632-7095b78d694a"
      },
      "outputs": [
        {
          "output_type": "execute_result",
          "data": {
            "text/plain": [
              "3"
            ]
          },
          "metadata": {},
          "execution_count": 2
        }
      ],
      "source": [
        "5 - 2"
      ]
    },
    {
      "cell_type": "code",
      "execution_count": 3,
      "metadata": {
        "id": "W8CPNNqS6QEP",
        "colab": {
          "base_uri": "https://localhost:8080/"
        },
        "outputId": "0bee7387-8a4f-41e7-c9d2-934d61f63161"
      },
      "outputs": [
        {
          "output_type": "execute_result",
          "data": {
            "text/plain": [
              "6"
            ]
          },
          "metadata": {},
          "execution_count": 3
        }
      ],
      "source": [
        "2 * 3"
      ]
    },
    {
      "cell_type": "code",
      "execution_count": 4,
      "metadata": {
        "id": "LiEyCtzL6QEQ",
        "colab": {
          "base_uri": "https://localhost:8080/"
        },
        "outputId": "2f86dd55-f161-49b5-a4bd-8026579f9b33"
      },
      "outputs": [
        {
          "output_type": "execute_result",
          "data": {
            "text/plain": [
              "2.0"
            ]
          },
          "metadata": {},
          "execution_count": 4
        }
      ],
      "source": [
        "6 / 3"
      ]
    },
    {
      "cell_type": "markdown",
      "metadata": {
        "id": "x-j8Bxls6QEQ"
      },
      "source": [
        "### 3-2 実装：その他の演算\n",
        "\n",
        "累乗を計算する場合は**とします。下記のコードで2の3乗を求めます。小数点以下を切り捨てた割り算を行う場合は//とします。余りを計算する場合は%記号を使います。"
      ]
    },
    {
      "cell_type": "code",
      "execution_count": 5,
      "metadata": {
        "id": "JVHVt-CR6QEQ",
        "colab": {
          "base_uri": "https://localhost:8080/"
        },
        "outputId": "5e13ac0f-44f3-4dc8-e8bf-10c9aaf6aa2d"
      },
      "outputs": [
        {
          "output_type": "execute_result",
          "data": {
            "text/plain": [
              "8"
            ]
          },
          "metadata": {},
          "execution_count": 5
        }
      ],
      "source": [
        "# 累乗\n",
        "2 ** 3"
      ]
    },
    {
      "cell_type": "code",
      "execution_count": 6,
      "metadata": {
        "id": "YoIt0w_86QEQ",
        "colab": {
          "base_uri": "https://localhost:8080/"
        },
        "outputId": "17ce73a3-28e9-4115-a175-96157b51c2d8"
      },
      "outputs": [
        {
          "output_type": "execute_result",
          "data": {
            "text/plain": [
              "2"
            ]
          },
          "metadata": {},
          "execution_count": 6
        }
      ],
      "source": [
        "# 整数の商\n",
        "7 // 3"
      ]
    },
    {
      "cell_type": "code",
      "source": [
        "# 整数の商\n",
        "14845 // 4353"
      ],
      "metadata": {
        "id": "99irEPqUVzWz",
        "colab": {
          "base_uri": "https://localhost:8080/"
        },
        "outputId": "b5b1d5a7-57ea-4422-f927-31313485c6a6"
      },
      "execution_count": 7,
      "outputs": [
        {
          "output_type": "execute_result",
          "data": {
            "text/plain": [
              "3"
            ]
          },
          "metadata": {},
          "execution_count": 7
        }
      ]
    },
    {
      "cell_type": "code",
      "execution_count": 8,
      "metadata": {
        "id": "p39YIi5F6QER",
        "colab": {
          "base_uri": "https://localhost:8080/"
        },
        "outputId": "38e5e068-767a-4de6-b5a9-80c13e705fdf"
      },
      "outputs": [
        {
          "output_type": "execute_result",
          "data": {
            "text/plain": [
              "1"
            ]
          },
          "metadata": {},
          "execution_count": 8
        }
      ],
      "source": [
        "# 余り\n",
        "7 % 3"
      ]
    },
    {
      "cell_type": "markdown",
      "metadata": {
        "id": "gOdiZwl06QER"
      },
      "source": [
        "### 3-3 実装：コメントの書き方\n",
        "\n",
        "　　#を行の頭につけると、その行はコメント行として扱われます。"
      ]
    },
    {
      "cell_type": "code",
      "execution_count": 9,
      "metadata": {
        "id": "nn1IvNSv6QER"
      },
      "outputs": [],
      "source": [
        "# 1 + 1"
      ]
    },
    {
      "cell_type": "markdown",
      "metadata": {
        "collapsed": true,
        "id": "LFqgbcew6QER"
      },
      "source": [
        "### 3-4 実装：データの型\n",
        "\n",
        "データの型の紹介をします。データと一口に言っても、「1,2,3」といった数値と「A,B,C」といった文字列では扱いが変わりますね。これらを使い分ける方法を紹介します。"
      ]
    },
    {
      "cell_type": "markdown",
      "metadata": {
        "id": "ZH72wmpX6QER"
      },
      "source": [
        "#### 4-A 文字列型\n",
        "\n",
        "文字列型を紹介します。これは名前の通り文字列を扱います。シングルクォーテーションまたはダブルクォーテーションで囲みます。どちらを使うこともできます（ただし、統一したほうがきれいです）。以下ではダブルクォーテーションを使いました。"
      ]
    },
    {
      "cell_type": "code",
      "execution_count": 1,
      "metadata": {
        "id": "tkjQa2OP6QER",
        "colab": {
          "base_uri": "https://localhost:8080/",
          "height": 35
        },
        "outputId": "3e7bb797-ce9e-4ff9-d388-0fe04af9e642"
      },
      "outputs": [
        {
          "output_type": "execute_result",
          "data": {
            "text/plain": [
              "'A'"
            ],
            "application/vnd.google.colaboratory.intrinsic+json": {
              "type": "string"
            }
          },
          "metadata": {},
          "execution_count": 1
        }
      ],
      "source": [
        "\"A\""
      ]
    },
    {
      "cell_type": "markdown",
      "source": [
        "シングルクォーテーションを使っても結果は変わりません。どちらを使ってもよいのですが、本書ではシングルクォーテーションを中心に使います。"
      ],
      "metadata": {
        "id": "fQuxVN7CLGn8"
      }
    },
    {
      "cell_type": "code",
      "execution_count": 2,
      "metadata": {
        "id": "kh1yQdBT6QES",
        "colab": {
          "base_uri": "https://localhost:8080/",
          "height": 35
        },
        "outputId": "e561dd80-7118-4b7d-f2ea-454c077ec50f"
      },
      "outputs": [
        {
          "output_type": "execute_result",
          "data": {
            "text/plain": [
              "'A'"
            ],
            "application/vnd.google.colaboratory.intrinsic+json": {
              "type": "string"
            }
          },
          "metadata": {},
          "execution_count": 2
        }
      ],
      "source": [
        "'A'"
      ]
    },
    {
      "cell_type": "code",
      "execution_count": 12,
      "metadata": {
        "id": "cIe4tQw56QES",
        "colab": {
          "base_uri": "https://localhost:8080/"
        },
        "outputId": "c0541dec-873a-498d-ac03-c99f960c7253"
      },
      "outputs": [
        {
          "output_type": "execute_result",
          "data": {
            "text/plain": [
              "str"
            ]
          },
          "metadata": {},
          "execution_count": 12
        }
      ],
      "source": [
        "# 文字列型\n",
        "type('A')"
      ]
    },
    {
      "cell_type": "markdown",
      "source": [
        "type関数を使うと、型の名称を出力できます。strは「String」の略で、文字列型であることを示しています。"
      ],
      "metadata": {
        "id": "6Zee66WxLbmb"
      }
    },
    {
      "cell_type": "code",
      "execution_count": 13,
      "metadata": {
        "id": "vlgiKszv6QES",
        "colab": {
          "base_uri": "https://localhost:8080/"
        },
        "outputId": "65b4354c-f23f-4b8d-fffb-8cfe688b08a5"
      },
      "outputs": [
        {
          "output_type": "execute_result",
          "data": {
            "text/plain": [
              "str"
            ]
          },
          "metadata": {},
          "execution_count": 13
        }
      ],
      "source": [
        "# 文字列型\n",
        "type(\"A\")"
      ]
    },
    {
      "cell_type": "markdown",
      "metadata": {
        "id": "VBTxrFgT6QES"
      },
      "source": [
        "#### 4-B 整数型・浮動小数点型\n",
        "\n",
        "数値型としては、整数型と浮動小数点型の2種類があります。小数点以下があるかないかの違いです。整数型はint型とも呼ばれます。intは「integer」の略で、整数型であることを示しています。浮動小数点型はfloatと呼ばれます。"
      ]
    },
    {
      "cell_type": "code",
      "execution_count": 14,
      "metadata": {
        "id": "tr2SiTM06QES",
        "colab": {
          "base_uri": "https://localhost:8080/"
        },
        "outputId": "97ea3986-784f-4da4-b873-ebcc656d7d63"
      },
      "outputs": [
        {
          "output_type": "execute_result",
          "data": {
            "text/plain": [
              "int"
            ]
          },
          "metadata": {},
          "execution_count": 14
        }
      ],
      "source": [
        "# 整数型\n",
        "type(1)"
      ]
    },
    {
      "cell_type": "code",
      "execution_count": 15,
      "metadata": {
        "id": "QoqMoC4e6QET",
        "colab": {
          "base_uri": "https://localhost:8080/"
        },
        "outputId": "8f7fdf4e-aa68-4018-b5b5-e3c64c803467"
      },
      "outputs": [
        {
          "output_type": "execute_result",
          "data": {
            "text/plain": [
              "float"
            ]
          },
          "metadata": {},
          "execution_count": 15
        }
      ],
      "source": [
        "# 浮動小数点\n",
        "type(2.4)"
      ]
    },
    {
      "cell_type": "code",
      "source": [
        "# ここで皆さんに質問です！もし整数型と浮動小数点の掛け算引き算を計算したら，結果はどのようなデータ型になりますか？\n",
        "\n",
        "print(2.4+5)\n",
        "type(2.4+5)"
      ],
      "metadata": {
        "id": "t7ekc7YdGfhu",
        "colab": {
          "base_uri": "https://localhost:8080/"
        },
        "outputId": "948bc7c0-1397-4fba-fcb4-981d3a0db65c"
      },
      "execution_count": 3,
      "outputs": [
        {
          "output_type": "stream",
          "name": "stdout",
          "text": [
            "7.4\n"
          ]
        },
        {
          "output_type": "execute_result",
          "data": {
            "text/plain": [
              "float"
            ]
          },
          "metadata": {},
          "execution_count": 3
        }
      ]
    },
    {
      "cell_type": "markdown",
      "metadata": {
        "id": "KjqnOkXE6QET"
      },
      "source": [
        "#### 4-C ブール型\n",
        "\n",
        "正解ならばTrue(真)、間違っていればFalse(偽)といった真偽を表すデータ型をブール型と呼びます。頭文字が大文字で、それ以外を小文字で入力することに気を付けてください。"
      ]
    },
    {
      "cell_type": "code",
      "execution_count": null,
      "metadata": {
        "id": "r9UuC9gv6QET"
      },
      "outputs": [],
      "source": [
        "# ブール型\n",
        "type(True)"
      ]
    },
    {
      "cell_type": "code",
      "execution_count": null,
      "metadata": {
        "id": "jk4mvkvK6QET"
      },
      "outputs": [],
      "source": [
        "# ブール型\n",
        "type(False)"
      ]
    },
    {
      "cell_type": "markdown",
      "metadata": {
        "id": "hjo0-Qj56QET"
      },
      "source": [
        "#### 4-D 異なるデータ型の間での演算\n",
        "\n",
        "異なるデータの型で演算をするとエラーになることがあるので注意しましょう。"
      ]
    },
    {
      "cell_type": "code",
      "execution_count": 5,
      "metadata": {
        "id": "NJomQzR66QET",
        "colab": {
          "base_uri": "https://localhost:8080/",
          "height": 35
        },
        "outputId": "cc042e8e-1ccb-4a10-8fb7-6bc5fea307c5"
      },
      "outputs": [
        {
          "output_type": "execute_result",
          "data": {
            "text/plain": [
              "'AB'"
            ],
            "application/vnd.google.colaboratory.intrinsic+json": {
              "type": "string"
            }
          },
          "metadata": {},
          "execution_count": 5
        }
      ],
      "source": [
        "# 'A' + 1\n",
        "'A' + 'B'"
      ]
    },
    {
      "cell_type": "markdown",
      "metadata": {
        "id": "hILgKvOD6QEU"
      },
      "source": [
        "### 3-5 実装：比較演算\n",
        "\n",
        "数値の大小関係などを比較したい場合には、比較演算子を使います。比較演算子の計算結果はブール型です。正しい場合はTrueが返ります。正しくない場合はFalseが返ります。\n",
        "\n",
        "比較演算子の種類は以下の通りです。\n",
        "\n",
        "| 比較演算子 | 意味 |\n",
        "| --- | --- |\n",
        "| > | より大きい |\n",
        "| >= | 以上 |\n",
        "| < | より小さい |\n",
        "| <= | 以下 |\n",
        "| == | 等しい |\n",
        "| != | 等しくない |"
      ]
    },
    {
      "cell_type": "code",
      "execution_count": 6,
      "metadata": {
        "id": "prm35rva6QEU",
        "colab": {
          "base_uri": "https://localhost:8080/"
        },
        "outputId": "2cc53698-f008-4bfd-be84-dcda78d9b122"
      },
      "outputs": [
        {
          "output_type": "execute_result",
          "data": {
            "text/plain": [
              "True"
            ]
          },
          "metadata": {},
          "execution_count": 6
        }
      ],
      "source": [
        "1 > 0.89"
      ]
    },
    {
      "cell_type": "code",
      "execution_count": 7,
      "metadata": {
        "id": "126qAaaC6QEU",
        "colab": {
          "base_uri": "https://localhost:8080/"
        },
        "outputId": "81172dd7-651a-4bab-96e5-7f89d365556e"
      },
      "outputs": [
        {
          "output_type": "execute_result",
          "data": {
            "text/plain": [
              "True"
            ]
          },
          "metadata": {},
          "execution_count": 7
        }
      ],
      "source": [
        "3 >= 2"
      ]
    },
    {
      "cell_type": "code",
      "execution_count": 8,
      "metadata": {
        "id": "vFN7umn46QEU",
        "colab": {
          "base_uri": "https://localhost:8080/"
        },
        "outputId": "6bedf35d-a255-42a4-9e6f-ac84cfca8ea2"
      },
      "outputs": [
        {
          "output_type": "execute_result",
          "data": {
            "text/plain": [
              "False"
            ]
          },
          "metadata": {},
          "execution_count": 8
        }
      ],
      "source": [
        "3 < 2"
      ]
    },
    {
      "cell_type": "code",
      "execution_count": 9,
      "metadata": {
        "id": "ce-uSYJJ6QEU",
        "colab": {
          "base_uri": "https://localhost:8080/"
        },
        "outputId": "32f63052-bf4a-4b2d-d04e-fd97d7955a09"
      },
      "outputs": [
        {
          "output_type": "execute_result",
          "data": {
            "text/plain": [
              "False"
            ]
          },
          "metadata": {},
          "execution_count": 9
        }
      ],
      "source": [
        "3 <= 2"
      ]
    },
    {
      "cell_type": "code",
      "execution_count": 10,
      "metadata": {
        "id": "ynimvEst6QEV",
        "colab": {
          "base_uri": "https://localhost:8080/"
        },
        "outputId": "2ee70dcf-8d7b-4d03-fbdb-5e007b5f6f9e"
      },
      "outputs": [
        {
          "output_type": "execute_result",
          "data": {
            "text/plain": [
              "False"
            ]
          },
          "metadata": {},
          "execution_count": 10
        }
      ],
      "source": [
        "3 == 2"
      ]
    },
    {
      "cell_type": "code",
      "execution_count": 11,
      "metadata": {
        "id": "w2CJ7GPL6QEV",
        "colab": {
          "base_uri": "https://localhost:8080/"
        },
        "outputId": "d1239b9a-e6db-4f95-bd48-bf78ca44983b"
      },
      "outputs": [
        {
          "output_type": "execute_result",
          "data": {
            "text/plain": [
              "True"
            ]
          },
          "metadata": {},
          "execution_count": 11
        }
      ],
      "source": [
        "3 != 2"
      ]
    },
    {
      "cell_type": "markdown",
      "metadata": {
        "id": "4jNG8LiT6QEW"
      },
      "source": [
        "### 3-6 実装：変数\n",
        "\n",
        "例えば数値の100が293になることはできません。中身が変わらないものを定数と呼びます。一方で中身が変わる可能性があるものを変数と呼びます。以下のコードでは変数xに100を代入しています。この場合のイコール記号(＝)は等しいという意味ではなく、代入演算子と呼ばれるものなので注意しましょう。"
      ]
    },
    {
      "cell_type": "code",
      "execution_count": 12,
      "metadata": {
        "id": "HTLdgTfM6QEW"
      },
      "outputs": [],
      "source": [
        "x = 100"
      ]
    },
    {
      "cell_type": "markdown",
      "source": [
        "これで変数xの中身は100になりました。単にxと記述してコードを実行するとxの中身である100が出力されます。"
      ],
      "metadata": {
        "id": "0cKTwHhwWfIi"
      }
    },
    {
      "cell_type": "code",
      "execution_count": 13,
      "metadata": {
        "id": "41OVpqhj6QEW",
        "colab": {
          "base_uri": "https://localhost:8080/"
        },
        "outputId": "0b335226-bd78-423c-ba95-9a9d0cc29b5c"
      },
      "outputs": [
        {
          "output_type": "execute_result",
          "data": {
            "text/plain": [
              "100"
            ]
          },
          "metadata": {},
          "execution_count": 13
        }
      ],
      "source": [
        "x"
      ]
    },
    {
      "cell_type": "markdown",
      "source": [
        "変数xは中身を変えることができます。以下のコードを実行すると、中身が293になります。"
      ],
      "metadata": {
        "id": "7HuRa1zJWzIJ"
      }
    },
    {
      "cell_type": "code",
      "execution_count": 14,
      "metadata": {
        "id": "9Pswhiuc6QEW",
        "colab": {
          "base_uri": "https://localhost:8080/"
        },
        "outputId": "c365532b-7246-455b-d650-98fbccaedb1e"
      },
      "outputs": [
        {
          "output_type": "execute_result",
          "data": {
            "text/plain": [
              "293"
            ]
          },
          "metadata": {},
          "execution_count": 14
        }
      ],
      "source": [
        "x = 293\n",
        "x"
      ]
    },
    {
      "cell_type": "markdown",
      "source": [
        "なお100=293というコードはエラーになるので注意してください。"
      ],
      "metadata": {
        "id": "Gm45JWrJ2JZl"
      }
    },
    {
      "cell_type": "code",
      "execution_count": 22,
      "metadata": {
        "id": "RuShUg4d6QEW"
      },
      "outputs": [],
      "source": [
        "# 参考までに、以下のコードはエラーになる。リテラル（直接的な値、例えば数字や文字列など）に代入しようとした場合に発生するエラーです。\n",
        "# 簡単に言うと、数値や文字列などの値を直接的に代入しようとすると、プログラムの文法として許可されていないため、このエラーが表示されます。\n",
        "id = 293"
      ]
    },
    {
      "cell_type": "code",
      "source": [
        "#　予約語を確認するコマンド\n",
        "__import__('keyword').kwlist\n",
        "\n",
        "# #　組み込み関数を確認するコマンド\n",
        "# dir(__builtins__)"
      ],
      "metadata": {
        "colab": {
          "base_uri": "https://localhost:8080/"
        },
        "id": "52F6gL6T3ZJY",
        "outputId": "91567037-2fab-46a5-fb89-4d0ef5ece29a"
      },
      "execution_count": 25,
      "outputs": [
        {
          "output_type": "execute_result",
          "data": {
            "text/plain": [
              "['False',\n",
              " 'None',\n",
              " 'True',\n",
              " 'and',\n",
              " 'as',\n",
              " 'assert',\n",
              " 'async',\n",
              " 'await',\n",
              " 'break',\n",
              " 'class',\n",
              " 'continue',\n",
              " 'def',\n",
              " 'del',\n",
              " 'elif',\n",
              " 'else',\n",
              " 'except',\n",
              " 'finally',\n",
              " 'for',\n",
              " 'from',\n",
              " 'global',\n",
              " 'if',\n",
              " 'import',\n",
              " 'in',\n",
              " 'is',\n",
              " 'lambda',\n",
              " 'nonlocal',\n",
              " 'not',\n",
              " 'or',\n",
              " 'pass',\n",
              " 'raise',\n",
              " 'return',\n",
              " 'try',\n",
              " 'while',\n",
              " 'with',\n",
              " 'yield']"
            ]
          },
          "metadata": {},
          "execution_count": 25
        }
      ]
    },
    {
      "cell_type": "markdown",
      "source": [
        "また、中身を代入する前だとエラーになります。例えば以下のコードはname ’y’ is not definedと「yが定義されていない」ことが原因でエラーになります。"
      ],
      "metadata": {
        "id": "ytY0glH03TVe"
      }
    },
    {
      "cell_type": "code",
      "source": [
        "id(y)"
      ],
      "metadata": {
        "colab": {
          "base_uri": "https://localhost:8080/",
          "height": 141
        },
        "id": "yKnQf55GdhIf",
        "outputId": "e5298e39-e684-468c-bf52-9c653bd924af"
      },
      "execution_count": 23,
      "outputs": [
        {
          "output_type": "error",
          "ename": "TypeError",
          "evalue": "'int' object is not callable",
          "traceback": [
            "\u001b[0;31m---------------------------------------------------------------------------\u001b[0m",
            "\u001b[0;31mTypeError\u001b[0m                                 Traceback (most recent call last)",
            "\u001b[0;32m<ipython-input-23-e6babe6803e1>\u001b[0m in \u001b[0;36m<cell line: 0>\u001b[0;34m()\u001b[0m\n\u001b[0;32m----> 1\u001b[0;31m \u001b[0mid\u001b[0m\u001b[0;34m(\u001b[0m\u001b[0my\u001b[0m\u001b[0;34m)\u001b[0m\u001b[0;34m\u001b[0m\u001b[0;34m\u001b[0m\u001b[0m\n\u001b[0m",
            "\u001b[0;31mTypeError\u001b[0m: 'int' object is not callable"
          ]
        }
      ]
    },
    {
      "cell_type": "code",
      "execution_count": null,
      "metadata": {
        "id": "mYVBwf1W6QEW"
      },
      "outputs": [],
      "source": [
        "y"
      ]
    },
    {
      "cell_type": "markdown",
      "source": [
        "yが定義すれば、エラーはなくなります。変数同士で計算などができます。"
      ],
      "metadata": {
        "id": "-S__DMz43WuV"
      }
    },
    {
      "cell_type": "code",
      "execution_count": 20,
      "metadata": {
        "id": "2Tk4K-396QEX",
        "colab": {
          "base_uri": "https://localhost:8080/"
        },
        "outputId": "cb2482fd-46ab-41bf-ac94-1c4d821e2a17"
      },
      "outputs": [
        {
          "output_type": "execute_result",
          "data": {
            "text/plain": [
              "50"
            ]
          },
          "metadata": {},
          "execution_count": 20
        }
      ],
      "source": [
        "y = 50\n",
        "y"
      ]
    },
    {
      "cell_type": "code",
      "execution_count": 26,
      "metadata": {
        "id": "sS4_ucP26QEX",
        "colab": {
          "base_uri": "https://localhost:8080/"
        },
        "outputId": "e27fe126-c6c3-4357-dca3-1a297de3fd58"
      },
      "outputs": [
        {
          "output_type": "execute_result",
          "data": {
            "text/plain": [
              "343"
            ]
          },
          "metadata": {},
          "execution_count": 26
        }
      ],
      "source": [
        "x + y"
      ]
    },
    {
      "cell_type": "markdown",
      "metadata": {
        "id": "RIrGIKMP6QEX"
      },
      "source": [
        "### 3-7 実装：関数\n",
        "\n",
        "計算ロジックを保存したものを関数と呼びます。計算のロジックは処理と呼ばれることも多いです。"
      ]
    },
    {
      "cell_type": "markdown",
      "source": [
        "#### 7-A 関数の作成\n",
        "\n",
        "例えば、ある値二2を足してから4を掛けるという計算をする必要があったとしましょう。"
      ],
      "metadata": {
        "id": "U0gmE4rA32ET"
      }
    },
    {
      "cell_type": "code",
      "execution_count": null,
      "metadata": {
        "id": "xoY-Vhbb6QEX"
      },
      "outputs": [],
      "source": [
        "(y + 2) * 4"
      ]
    },
    {
      "cell_type": "markdown",
      "source": [
        "yには50が代入されているので$(50+2)*4=52*4=208$となります。\n",
        "\n",
        "これをいろいろなデータに対して適用したいと思った時、何度もこの計算を書くのはやや面倒です。そこで、以下のようにして処理を関数に保存します。"
      ],
      "metadata": {
        "id": "LY0Gox4J4JWA"
      }
    },
    {
      "cell_type": "code",
      "execution_count": 31,
      "metadata": {
        "id": "2c3QS22l6QEY"
      },
      "outputs": [],
      "source": [
        "def sample_function(data):\n",
        "    return (data + 2) * 4"
      ]
    },
    {
      "cell_type": "code",
      "source": [
        "def sample_function(data):\n",
        "    return (data + 2) * 4\n",
        "print('YFEGFEU')"
      ],
      "metadata": {
        "colab": {
          "base_uri": "https://localhost:8080/"
        },
        "id": "6dXjojKCeroA",
        "outputId": "9154b0a7-7d9f-4635-b166-2d2164a81d0a"
      },
      "execution_count": 32,
      "outputs": [
        {
          "output_type": "stream",
          "name": "stdout",
          "text": [
            "YFEGFEU\n"
          ]
        }
      ]
    },
    {
      "cell_type": "markdown",
      "source": [
        "関数を作る場合は、以下の要領で実装します。\n",
        "\n",
        "def 関数名（引数）：<br>\n",
        "　　処理\n",
        "\n",
        "一行目の行頭に「def」と入れること、行末にコロン（:）記号を入れることに注意します。これはPythonにおける約束事なので覚えるしかありませね。\n",
        "2行目以降は行の頭に空白文字を入れる（インデントすると呼びます）ことに注意します。これを忘れるとうまく動きません。\n",
        "計算結果を返すとはreturnを使います。これもルールとして覚えておきましょう。"
      ],
      "metadata": {
        "id": "q-vhapj54y1q"
      }
    },
    {
      "cell_type": "code",
      "source": [
        "def print_fun(x, y):\n",
        "    print(x * y)\n",
        "\n",
        "def return_fun(x, y):\n",
        "    return x * y\n",
        "\n",
        "print(type(print_fun(2, 3)))\n",
        "print(type(return_fun(2, 3)))\n",
        "# print(print_fun(2, 3)+2)\n",
        "print(return_fun(2, 3)+2)"
      ],
      "metadata": {
        "colab": {
          "base_uri": "https://localhost:8080/"
        },
        "id": "dENKnU-g5fXk",
        "outputId": "491e031a-7a44-4ef6-a0cb-ff150ee7449c"
      },
      "execution_count": 29,
      "outputs": [
        {
          "output_type": "stream",
          "name": "stdout",
          "text": [
            "6\n",
            "<class 'NoneType'>\n",
            "<class 'int'>\n",
            "8\n"
          ]
        }
      ]
    },
    {
      "cell_type": "markdown",
      "source": [
        "#### 7-B 関数の実行\n",
        "\n",
        "関数に渡す対象を引数（ひきすう）と呼びます。引数に入れるデータを変えることで、まったく同じ計算ロジックをさまざまなデータに対して適用できます。\n",
        "まずは変数を引数に入れて実行します。"
      ],
      "metadata": {
        "id": "7BLbNtXKlmZa"
      }
    },
    {
      "cell_type": "code",
      "execution_count": 33,
      "metadata": {
        "id": "Frg-GMmJ6QEY",
        "colab": {
          "base_uri": "https://localhost:8080/"
        },
        "outputId": "e0721779-952b-4367-e329-8f17f707065f"
      },
      "outputs": [
        {
          "output_type": "execute_result",
          "data": {
            "text/plain": [
              "208"
            ]
          },
          "metadata": {},
          "execution_count": 33
        }
      ],
      "source": [
        "sample_function(data=y)"
      ]
    },
    {
      "cell_type": "markdown",
      "source": [
        "関数を使う際にdata=といった引数の名前は省略できます。即ち以下のように実行しても結果は変わりません。"
      ],
      "metadata": {
        "id": "c56O6zNDmfax"
      }
    },
    {
      "cell_type": "code",
      "execution_count": null,
      "metadata": {
        "id": "SlQ7oxRC6QEY"
      },
      "outputs": [],
      "source": [
        "# 引数の名前は省略できる\n",
        "sample_function(y)"
      ]
    },
    {
      "cell_type": "markdown",
      "source": [
        "引数を変えて、実行してみます。"
      ],
      "metadata": {
        "id": "4M_MBTwcmssJ"
      }
    },
    {
      "cell_type": "code",
      "execution_count": null,
      "metadata": {
        "id": "Yh8X2Hsa6QEY"
      },
      "outputs": [],
      "source": [
        "sample_function(3)"
      ]
    },
    {
      "cell_type": "markdown",
      "source": [
        "関数の演算結果をさらに計算に使うこともできます。"
      ],
      "metadata": {
        "id": "9_iy1FaYm2WD"
      }
    },
    {
      "cell_type": "code",
      "execution_count": 34,
      "metadata": {
        "id": "3IiNakUU6QEY",
        "colab": {
          "base_uri": "https://localhost:8080/"
        },
        "outputId": "7eba0483-0c47-4422-bab0-8b11e42af007"
      },
      "outputs": [
        {
          "output_type": "execute_result",
          "data": {
            "text/plain": [
              "228"
            ]
          },
          "metadata": {},
          "execution_count": 34
        }
      ],
      "source": [
        "sample_function(y) + sample_function(3)"
      ]
    },
    {
      "cell_type": "markdown",
      "source": [
        "関数の便利なところは、他の人が作った計算のロジックを流用できることです。統計分析には複雑な計算が必要となることが多々あります。この計算を全部自分でプログラミングしていると、とても長い時間がかかってしまいます。しかし、他の方が作ってくれた関数を使うことで、あっという間に、短いコードで分析を実行できます。"
      ],
      "metadata": {
        "id": "krFHILq5m-LV"
      }
    },
    {
      "cell_type": "markdown",
      "metadata": {
        "id": "tNQ7to666QEY"
      },
      "source": [
        "### 3-8 実装：頻繁に使う関数\n",
        "\n",
        "本書で頻繁に用いる関数を紹介します。"
      ]
    },
    {
      "cell_type": "markdown",
      "metadata": {
        "id": "-d-rCAQm6QEZ"
      },
      "source": [
        "#### 8-A print関数\n",
        "\n",
        "結果を画面に出力させる際にはしばしば用いるのがprint関数です。例えば1+1の結果を出力させます。"
      ]
    },
    {
      "cell_type": "code",
      "execution_count": 35,
      "metadata": {
        "id": "md4srY1O6QEZ",
        "colab": {
          "base_uri": "https://localhost:8080/"
        },
        "outputId": "a0fe8e02-6153-4c43-e507-090922f2926e"
      },
      "outputs": [
        {
          "output_type": "stream",
          "name": "stdout",
          "text": [
            "2\n"
          ]
        }
      ],
      "source": [
        "print(1 + 1)"
      ]
    },
    {
      "cell_type": "markdown",
      "source": [
        "上記の結果は、print関数を使わない時と同じです。ただし、複雑な結果を出力させる場合はprint関数を使った方が便利なところがあります。例えば文字列と計算結果を合わせて表示させる場合はprint関数を使うと簡単です。"
      ],
      "metadata": {
        "id": "cg5H-WEboE5E"
      }
    },
    {
      "cell_type": "code",
      "execution_count": 36,
      "metadata": {
        "id": "p1Qc9sf36QEZ",
        "colab": {
          "base_uri": "https://localhost:8080/"
        },
        "outputId": "c0b2ca9d-657a-44ac-ee52-89dc75de6496"
      },
      "outputs": [
        {
          "output_type": "stream",
          "name": "stdout",
          "text": [
            "今から計算をします：計算結果は 2\n"
          ]
        }
      ],
      "source": [
        "print('今から計算をします：計算結果は', 1 + 1)"
      ]
    },
    {
      "cell_type": "markdown",
      "source": [
        "ところで、複数の計算を一つのセルで行うと、最後の結果だけが出力されます。print関数を使うことで、両方の結果を出力できます。"
      ],
      "metadata": {
        "id": "obT-lO6cCMYk"
      }
    },
    {
      "cell_type": "code",
      "execution_count": 37,
      "metadata": {
        "id": "iagv--0G6QEZ",
        "colab": {
          "base_uri": "https://localhost:8080/"
        },
        "outputId": "c43b0b69-0d1a-4b61-86c0-d95dbba6e63d"
      },
      "outputs": [
        {
          "output_type": "execute_result",
          "data": {
            "text/plain": [
              "4"
            ]
          },
          "metadata": {},
          "execution_count": 37
        }
      ],
      "source": [
        "# 最後の数値だけが出力される\n",
        "1 + 1\n",
        "1 + 3"
      ]
    },
    {
      "cell_type": "code",
      "execution_count": 38,
      "metadata": {
        "id": "6_rBaLuC6QEZ",
        "colab": {
          "base_uri": "https://localhost:8080/"
        },
        "outputId": "a926eaba-a3ae-40b9-bea5-f6a488c314d8"
      },
      "outputs": [
        {
          "output_type": "stream",
          "name": "stdout",
          "text": [
            "2\n",
            "4\n"
          ]
        }
      ],
      "source": [
        "# 両方出力される\n",
        "print(1 + 1)\n",
        "print(1 + 3)"
      ]
    },
    {
      "cell_type": "code",
      "source": [
        "# print('今から%sの計算をします：計算結果は' % '1+1', 1 + 1)\n",
        "# print('今から{0}の計算をします：計算結果は{1}'.format('1+1',1+1))"
      ],
      "metadata": {
        "id": "aU78t0s5L4Se"
      },
      "execution_count": null,
      "outputs": []
    },
    {
      "cell_type": "markdown",
      "metadata": {
        "id": "j8H7FzrK6QEZ"
      },
      "source": [
        "#### 8-B round関数\n",
        "\n",
        "本書では様々な計算を行います。計算結果に対して小数点を丸める時にはround関数を使います。引数に対象となる数値を入れると、整数に丸めてくれます。"
      ]
    },
    {
      "cell_type": "code",
      "execution_count": 39,
      "metadata": {
        "id": "3OBt28PY6QEa",
        "colab": {
          "base_uri": "https://localhost:8080/"
        },
        "outputId": "5eec8b79-54b1-4979-8350-7200ca3d9cd6"
      },
      "outputs": [
        {
          "output_type": "stream",
          "name": "stdout",
          "text": [
            "1.234を丸めた結果 1\n",
            "1.963を丸めた結果 2\n"
          ]
        }
      ],
      "source": [
        "print('1.234を丸めた結果', round(1.234))\n",
        "print('1.963を丸めた結果', round(1.963))"
      ]
    },
    {
      "cell_type": "markdown",
      "source": [
        "整数ではなく、例えば小数点以下第2位で丸める場合は、引数ndigitsを追加します。"
      ],
      "metadata": {
        "id": "ESHbYBEOjudq"
      }
    },
    {
      "cell_type": "code",
      "execution_count": 40,
      "metadata": {
        "id": "SlwyOGgR6QEa",
        "colab": {
          "base_uri": "https://localhost:8080/"
        },
        "outputId": "f2eedfdc-0d06-4719-8bbc-9247ca084ae8"
      },
      "outputs": [
        {
          "output_type": "execute_result",
          "data": {
            "text/plain": [
              "1.23"
            ]
          },
          "metadata": {},
          "execution_count": 40
        }
      ],
      "source": [
        "round(1.234, ndigits=2)"
      ]
    },
    {
      "cell_type": "code",
      "execution_count": 41,
      "metadata": {
        "id": "xK2qeQ-z6QEa",
        "colab": {
          "base_uri": "https://localhost:8080/"
        },
        "outputId": "ff9c8a93-64bd-4d89-e2ff-b6d7b9c27ac1"
      },
      "outputs": [
        {
          "output_type": "stream",
          "name": "stdout",
          "text": [
            "1.5を丸めた結果 2\n",
            "3.5を丸めた結果 4\n",
            "2.5を丸めた結果 2\n",
            "4.5を丸めた結果 4\n",
            "2.51を丸めた結果 3\n",
            "3.56を丸めた結果 4\n"
          ]
        }
      ],
      "source": [
        "# 通常の四捨五入とは異なるので注意、同じだけ近い場合には偶数が選ばれる結果になっている。\n",
        "print('1.5を丸めた結果', round(1.5))\n",
        "print('3.5を丸めた結果', round(3.5))\n",
        "\n",
        "print('2.5を丸めた結果', round(2.5))\n",
        "print('4.5を丸めた結果', round(4.5))\n",
        "\n",
        "print('2.51を丸めた結果', round(2.51))\n",
        "print('3.56を丸めた結果', round(3.56))"
      ]
    },
    {
      "cell_type": "markdown",
      "source": [
        "Pythonの`round()`関数が四捨五入で偶数を優先する目的は、統計的なバイアスを減らすためです。"
      ],
      "metadata": {
        "id": "zCd7YzN0s6Ik"
      }
    },
    {
      "cell_type": "markdown",
      "metadata": {
        "collapsed": true,
        "id": "zboWvkxT6QEa"
      },
      "source": [
        "### 3-9 実装：クラスとインスタンス\n",
        "\n",
        "本節ではクラスとインスタンスという2つの概念について説明します。この二つの考え方を突き詰めると、哲学的な文章になってしまうので、データ分析をする際に覚えておくとよいことに絞って解説します。また、本節は難しいと感じたら飛ばしても大丈夫です。"
      ]
    },
    {
      "cell_type": "markdown",
      "source": [
        "#### 9-A クラスの作成\n",
        "\n",
        "データと計算のロジックを共に使いまわせるようにできると便利ですね。クラスを使うと、データの構造と計算のロジックを共に指定できます。\n",
        "ここからは、クラスとインスタンスを実際に作っていくのですが、実はこの作業は今後一切行いません。他の方が作ってくれたクラスを流用するからです。クラスの使い方だけ理解できれば大丈夫です。"
      ],
      "metadata": {
        "id": "gRqVFKIc1XAo"
      }
    },
    {
      "cell_type": "code",
      "execution_count": null,
      "metadata": {
        "id": "LdM-qWGs6QEa"
      },
      "outputs": [],
      "source": [
        "# Sample_Classという名前の暮らすを作ります。\n",
        "class Sample_Class:\n",
        "    def __init__(self, data1, data2):\n",
        "        self.data1 = data1\n",
        "        self.data2 = data2\n",
        "\n",
        "    def method2(self):\n",
        "        return self.data1 + self.data2"
      ]
    },
    {
      "cell_type": "code",
      "source": [
        "#　クラスを作る場合は、以下の要領で実装します。以下のコードは動きません。\n",
        "\n",
        "class クラス名:\n",
        "    def 関数名1（引数）:\n",
        "        関数名1の処理\n",
        "    def 関数名2（引数）:\n",
        "        関数名2の処理"
      ],
      "metadata": {
        "id": "uDxF2FqHY-jT"
      },
      "execution_count": null,
      "outputs": []
    },
    {
      "cell_type": "markdown",
      "source": [
        "関数は二つに限らず、三つでも四つでもいくつでも追加できます。\n",
        "1つ目の関数__init__は特殊な関数で、クラスの初期化をするコンストラクタと呼ばれます、クラスにデータ(data1, data2)を格納する関数としてコンストラクタを使っています。\n",
        "\n",
        "*コンストラクタとは、オブジェクト指向プログラミング言語において、クラスのインスタンスが生成される際に自動的に実行される、特別なメソッドのことです。主に、オブジェクトの初期化処理を行うために使われます。"
      ],
      "metadata": {
        "id": "_z_4i8tC2m4j"
      }
    },
    {
      "cell_type": "markdown",
      "source": [
        "#### 9-b インスタンスの生成\n",
        "\n",
        "インスタンスを生成することで、実際にデータを中に格納できます。sample_instanceという名前でインスタンスを生成します。"
      ],
      "metadata": {
        "id": "vkIoy71D3yuw"
      }
    },
    {
      "cell_type": "code",
      "execution_count": null,
      "metadata": {
        "id": "XP63Z0fO6QEa"
      },
      "outputs": [],
      "source": [
        "sample_instance = Sample_Class(data1=2, data2=3)"
      ]
    },
    {
      "cell_type": "markdown",
      "source": [
        "これで、data1に「2」が、data2に「3」が格納されたインスタンスsample_instanceができました。コンストラクタの引数のselfとは、クラス自身のことを指すので、指定は不要です。"
      ],
      "metadata": {
        "id": "2Fm84HEFNWgW"
      }
    },
    {
      "cell_type": "code",
      "execution_count": null,
      "metadata": {
        "id": "yaQVRxKr6QEa"
      },
      "outputs": [],
      "source": [
        "#　中身のデータを取り出す際には、ドット記号を使います。\n",
        "sample_instance.data1"
      ]
    },
    {
      "cell_type": "code",
      "execution_count": null,
      "metadata": {
        "id": "3s264nRV6QEb"
      },
      "outputs": [],
      "source": [
        "#　自身の関数を使う場合も、ドット記号を使います。\n",
        "sample_instance.method2()"
      ]
    },
    {
      "cell_type": "markdown",
      "source": [
        "関数を実行する時、round()のように単に関数名を指定する場合と、インスタンスからsample_instance.method2()のように実装する場合があります。両者の使分けに注意してください。インスタンスの中身（データや計算のロジック）を取り出す場合には、ドット記号を使うことを覚えてください。"
      ],
      "metadata": {
        "id": "P33u2qngVY3h"
      }
    },
    {
      "cell_type": "markdown",
      "metadata": {
        "id": "hw9E6R8Y6QEb"
      },
      "source": [
        "### 3-10 実装：if構文による分岐\n",
        "\n",
        "「もしも○○ならば、XXの動作をする」という条件分岐を含むプログラムを書く場合はifという構文を使います。"
      ]
    },
    {
      "cell_type": "code",
      "source": [
        "#　一般的に、if文は以下のように書きます（以下のコードは動きません）。\n",
        "\n",
        "if(条件):\n",
        "  条件を満たしたときの動作\n",
        "else:\n",
        "  満たさなかったときの動作"
      ],
      "metadata": {
        "id": "bUdNfohCqemG"
      },
      "execution_count": null,
      "outputs": []
    },
    {
      "cell_type": "code",
      "execution_count": 42,
      "metadata": {
        "id": "eToQNv1n6QEb",
        "colab": {
          "base_uri": "https://localhost:8080/"
        },
        "outputId": "604e43f6-08c8-4a16-ff22-0aadeb57de7a"
      },
      "outputs": [
        {
          "output_type": "stream",
          "name": "stdout",
          "text": [
            "2より小さいデータです\n"
          ]
        }
      ],
      "source": [
        "#あるdataが2未満なら「2より小さいデータです」と出力され、そうでなければ「2以上のデータです」と出力させる機能を実装します。\n",
        "\n",
        "data = 1\n",
        "if(data < 2):\n",
        "    print('2より小さいデータです')\n",
        "else:\n",
        "    print('2以上のデータです')"
      ]
    },
    {
      "cell_type": "code",
      "execution_count": 43,
      "metadata": {
        "id": "gj-uxDH06QEb",
        "colab": {
          "base_uri": "https://localhost:8080/"
        },
        "outputId": "5b480e78-cd12-4357-b473-8b8c8f33b2a2"
      },
      "outputs": [
        {
          "output_type": "stream",
          "name": "stdout",
          "text": [
            "2以上のデータです\n"
          ]
        }
      ],
      "source": [
        "#条件を満たさなかったときの動作も確認します。\n",
        "\n",
        "data = 3\n",
        "if(data < 2):\n",
        "    print('2より小さいデータです')\n",
        "else:\n",
        "    print('2以上のデータです')"
      ]
    },
    {
      "cell_type": "code",
      "source": [
        "# Pythonでは、このinput()関数はユーザーからの入力を受け入れるための基本的なユーザーインターフェースを作成するために使用されます。\n",
        "# この関数はプログラムの実行を一時停止し、ユーザーが何かを入力してEnterキーを押すまで待機します。\n",
        "# 入力されたテキストは文字列として返されます。\n",
        "\n",
        "x = int(input(\"好きな番号を教えてください。\"))"
      ],
      "metadata": {
        "colab": {
          "base_uri": "https://localhost:8080/"
        },
        "id": "JTrf2bOQ-pzz",
        "outputId": "bd3cf804-8081-4eb5-d199-7b1f99eb77f6"
      },
      "execution_count": 46,
      "outputs": [
        {
          "name": "stdout",
          "output_type": "stream",
          "text": [
            "好きな番号を教えてください。5\n"
          ]
        }
      ]
    },
    {
      "cell_type": "code",
      "source": [
        "type(x)"
      ],
      "metadata": {
        "colab": {
          "base_uri": "https://localhost:8080/"
        },
        "id": "CgzrIXHdibWC",
        "outputId": "8e31e510-f829-44f3-d3b0-82ee9d4abbef"
      },
      "execution_count": 49,
      "outputs": [
        {
          "output_type": "execute_result",
          "data": {
            "text/plain": [
              "int"
            ]
          },
          "metadata": {},
          "execution_count": 49
        }
      ]
    },
    {
      "cell_type": "markdown",
      "metadata": {
        "id": "h9Afn9lb6QEb"
      },
      "source": [
        "### 3-11 実装：for構文による繰り返し\n",
        "\n",
        "同じ計算を何度も繰り返す場合はforという構文を使います。\n",
        "いろいろやり方があるのですが、繰り返しの幅を設定するのが簡単です。幅はrange関数を使って指定します。"
      ]
    },
    {
      "cell_type": "code",
      "execution_count": 50,
      "metadata": {
        "id": "yDUDX8va6QEb",
        "colab": {
          "base_uri": "https://localhost:8080/"
        },
        "outputId": "2ecaa30c-2f4b-4119-ab70-d0f3ebaed19e"
      },
      "outputs": [
        {
          "output_type": "execute_result",
          "data": {
            "text/plain": [
              "range(0, 3)"
            ]
          },
          "metadata": {},
          "execution_count": 50
        }
      ],
      "source": [
        "range(0, 3)"
      ]
    },
    {
      "cell_type": "markdown",
      "source": [
        "range(0, 3)と指定すると「0スタートで3つの幅」を表します。即ち0, 1, 2です。\n",
        "以下のコードではiという変数をrange(0, 3)の範囲で変化させながら、print(i)を繰り返し実行しています。"
      ],
      "metadata": {
        "id": "orxEL1aFrs7x"
      }
    },
    {
      "cell_type": "code",
      "execution_count": 51,
      "metadata": {
        "id": "znsds83O6QEb",
        "colab": {
          "base_uri": "https://localhost:8080/"
        },
        "outputId": "74e54a40-317d-4ea6-e11b-a0163acccf83"
      },
      "outputs": [
        {
          "output_type": "stream",
          "name": "stdout",
          "text": [
            "0\n",
            "1\n",
            "2\n"
          ]
        }
      ],
      "source": [
        "for i in range(0, 3):\n",
        "    print(i)"
      ]
    },
    {
      "cell_type": "markdown",
      "source": [
        "# 20250430はここまで説明終わりました．"
      ],
      "metadata": {
        "id": "7sGsaZQ6jO6Z"
      }
    },
    {
      "cell_type": "code",
      "execution_count": null,
      "metadata": {
        "id": "03j-ZrZS6QEc"
      },
      "outputs": [],
      "source": [
        "#　2行目の動作をprint('hello')とすると、helloが3回続けて表示されます。\n",
        "\n",
        "for i in range(0, 3):\n",
        "    print('hello')"
      ]
    },
    {
      "cell_type": "markdown",
      "source": [
        "まったく同じ処理を繰り返すこともできますし、データを変えながら似たような処理を繰り返すこともできます。if構文とfor構文を組み合わせると、さまざまな動きをプログラミングできます。本書では第4部以降でシミュレーションする時などに使います。"
      ],
      "metadata": {
        "id": "CgVEeVGzstxL"
      }
    },
    {
      "cell_type": "markdown",
      "source": [
        "### 3-12 使いやすいプログラムを書くコツ\n",
        "\n",
        "Jupyter Notebookは、複数のセルのどこからでも計算を始められます。しかし、5番目のセルを実行した後でないと2番目のセルの計算は動かない、というので順番があることを覚えてください。\n",
        "是非、1番上のセルから順番に実行していけば、正しい結果が得られるようにコードを書きましょう。これだけで見通しがとてもよくなります。\n",
        "また、同じコードは何度も書かないというのも守っておくとよいです。同じ計算は関数としてまとめたり、for構文を使って一気に繰り返し実行したりします。\n",
        "\n",
        "そして、Pythonに関わらず、プログラミングで最も重要なことは何をやっているのか他の人が見ても分かるようにすることです。\n",
        "例えば変数名を「A」という1文字だけにすることはお勧めできません。本書ではページ数の関係で短い変数名を使いこともありますが、実際にコードを書く場合は、ちゃんと理解ができる、中にどんなデータが入っているのか想像できるような変数名を使いましょう。\n",
        "関数名やクラス名も同様で、使い方が想像できるような名称にすることが推奨されます。コードに適宜コメントを入れることも良い習慣です。\n",
        "他の人が読んでも分かる、或いは3ヶ月後に自分が読み返しても内容が分かるようにすることは、個人の勉強でも、チームでの共同作業でも、とても大事です。"
      ],
      "metadata": {
        "id": "mhbFswIUtKUp"
      }
    },
    {
      "cell_type": "code",
      "source": [],
      "metadata": {
        "id": "rxC89za1gT0X"
      },
      "execution_count": null,
      "outputs": []
    },
    {
      "cell_type": "markdown",
      "source": [
        "\n",
        "## 4章　numpy・pandasの基本\n",
        "\n",
        "本章では、numpy・pandasという2つのライブラリの使い方を解説します。numpy・pandasを用いることで、データの取り扱いがとても簡単になります。\n",
        "\n",
        "本章では、補足的に、リスト呼ばれる、外部ライブラリを利用しなくても使えるデータの形式も紹介します。続いてnumpyとpandasの使い方を解説します。"
      ],
      "metadata": {
        "id": "-CtdKtt_haH8"
      }
    },
    {
      "cell_type": "markdown",
      "metadata": {
        "id": "OOmq793fvcVm"
      },
      "source": [
        "### 4-1 実装：分析のための追加機能のインポート\n",
        "\n",
        "ライブラリを読み込むと、便利関数やクラスなどを利用できるので、分析がとても簡単になります。"
      ]
    },
    {
      "cell_type": "code",
      "execution_count": null,
      "metadata": {
        "id": "xt6EjhYCvcVm"
      },
      "outputs": [],
      "source": [
        "#　以下のコードでライブラリを読み込む。\n",
        "import numpy as np\n",
        "import pandas as pd"
      ]
    },
    {
      "cell_type": "markdown",
      "source": [
        "numpyとpandasという2つのライブラリを読み込みました。今後少しずつ扱うライブラリが増えていきます。しかし、この2つだけでも、データの整理や集計位であれば、十分な機能を備えています。\n",
        "\n",
        "各々のライブラリを読み込む際、numpyならばnp、pandasならばpdという略称を設定しました、numpyといちいち入力するよりもnpとだけ入力する方が簡単だからです。numpyの機能を使う場合は「np.関数名」のように、頭にnp.をつけます。pandasならpd.をつけます。\n",
        "\n",
        "基本的には「import　ライブラリ名」のように読み込みます。ちなみに「from ライブラリ名　importモジュール名・関数名」のようにして、ライブラリ内の特定のモジュールや関数だけを読み込むことなどもできます。"
      ],
      "metadata": {
        "id": "UsBmRmvnxA42"
      }
    },
    {
      "cell_type": "markdown",
      "source": [
        "### 4-2 用語：numpy・pandas\n",
        "\n",
        "numpyとpandasは、データを読み込んだり整形したり、集計したりするのに便利ライブラリです。numpyとpandasの使い分けに関しては、自分にとって最も扱いやすいと感じたものを採用していただければと思います。本書で紹介する使い方はあくまでもその一例です。\n",
        "\n",
        "numpyはアレイ(正確にndarray)というデータを保持するクラスを主に使います。また、本書ではあまり使いませんが、行列演算も簡単に実行できます。\n",
        "\n",
        "pandasは、データフレーム(DataFrame)という、データ管理のためのとても強力なクラスを持っています。本書では主にpandasのデータフレームを使います。"
      ],
      "metadata": {
        "id": "785NCRLfKA6z"
      }
    },
    {
      "cell_type": "markdown",
      "metadata": {
        "id": "52ANnyS2vcVn"
      },
      "source": [
        "### 4-3　実装：リスト\n",
        "\n",
        "numpy・pandasを使う前に、前準備としてPython標準のデータの形式を紹介します。以下のようにして複数のデータをまとめたものをリストと呼びます。\n",
        "半角の角括弧で複数のデータを囲むことによってリストを作ります。ここでは、作ったリストを変数に代入しています。中身を表示する場合は、2行目のように変数名だけを記述します。"
      ]
    },
    {
      "cell_type": "code",
      "execution_count": null,
      "metadata": {
        "id": "MLWiDs-GvcVo"
      },
      "outputs": [],
      "source": [
        "sample_list = [1,2,3,4,5]\n",
        "sample_list\n",
        "# type(sample_list)"
      ]
    },
    {
      "cell_type": "markdown",
      "source": [
        "なお、リストに対する演算は少し工夫が必要です。sample_list + 1のようにリストに1を加えるとエラーになります。\n",
        "いろいろな計算処理を行う場合は、後ほど紹介するnumpyのアレイやpandasのデータフレームヲ使う方が簡単です。あくまでも使い分けの問題です。リストを使うべき場面もあります。"
      ],
      "metadata": {
        "id": "_oFtxdxQ6eEu"
      }
    },
    {
      "cell_type": "code",
      "execution_count": null,
      "metadata": {
        "id": "vNCrbbDcvcVo"
      },
      "outputs": [],
      "source": [
        "# これはエラー\n",
        "sample_list + 1"
      ]
    },
    {
      "cell_type": "markdown",
      "source": [
        "### 4-4　実装：行(Row)・列(Column)\n",
        "\n",
        "行列に関する用語を説明します。行が横です。列が縦です。行はRowと、列はColumnの頭文字のColと表記することがあります。また行列の名の通り、行番号→列番号の順番で表記されることが多いです。\n",
        "\n",
        "とてもつまらないことですが、これを間違えるとかなら大きな痛手になるので、ちゃんと対応を把握しておくと安心です。"
      ],
      "metadata": {
        "id": "ebG22Dyy7NsU"
      }
    },
    {
      "cell_type": "markdown",
      "metadata": {
        "id": "RspQYBEWvcVp"
      },
      "source": [
        "### 4-5 実装：アレイ\n",
        "\n",
        "ここからnumpyの解説に移ります。本節ではnumpyのアレイという形式でデータを格納する方法を解説します。リストを用いてアレイを作ります。numpyの機能を用いるので「np.array」とします。"
      ]
    },
    {
      "cell_type": "code",
      "execution_count": null,
      "metadata": {
        "id": "Xpmf_rK4vcVp"
      },
      "outputs": [],
      "source": [
        "sample_array = np.array([1, 2, 3, 4, 5])\n",
        "sample_array"
      ]
    },
    {
      "cell_type": "markdown",
      "source": [
        "同一のアレイには、同一のデータの型しか入りません。仮に、数値型と文字列型を同時に入れようとすると、すべてが文字列型として扱われてしまいます。"
      ],
      "metadata": {
        "id": "ff0youHK84oV"
      }
    },
    {
      "cell_type": "code",
      "execution_count": null,
      "metadata": {
        "id": "DGzRIEnhvcVq"
      },
      "outputs": [],
      "source": [
        "# すべて文字列型になる\n",
        "np.array([1 ,2, 'A'])"
      ]
    },
    {
      "cell_type": "markdown",
      "metadata": {
        "id": "-Ua26bjgvcVq"
      },
      "source": [
        "### 4-6 実装：アレイに対する演算\n",
        "\n",
        "アレイに対する演算は、アレイの中身のデータすべてに対して一律に適用されます。例えば足し算ならば、以下のようになります。リストだとエラーになりましたが、アレイなら問題なく実行できます。掛け算も同様です。"
      ]
    },
    {
      "cell_type": "code",
      "execution_count": null,
      "metadata": {
        "id": "Zed6k0BJvcVq"
      },
      "outputs": [],
      "source": [
        "sample_array + 1"
      ]
    },
    {
      "cell_type": "code",
      "execution_count": null,
      "metadata": {
        "id": "MIPU5BOLvcVr"
      },
      "outputs": [],
      "source": [
        "sample_array * 2"
      ]
    },
    {
      "cell_type": "markdown",
      "metadata": {
        "id": "uS7pI4wPvcVr"
      },
      "source": [
        "### 4-7　2次元のアレイ\n",
        "\n",
        "2次元のアレイを作ることもできます。リストを入れ子にしたものを引数に指定します。"
      ]
    },
    {
      "cell_type": "code",
      "execution_count": null,
      "metadata": {
        "id": "CrfTv4TRvcVr"
      },
      "outputs": [],
      "source": [
        "# 行列\n",
        "sample_array_2 = np.array(\n",
        "    [[1, 2, 3, 4, 5],\n",
        "     [6, 7, 8, 9, 10]])\n",
        "sample_array_2"
      ]
    },
    {
      "cell_type": "code",
      "execution_count": null,
      "metadata": {
        "id": "uY-7nuCEvcVr"
      },
      "outputs": [],
      "source": [
        "# 行数や列数は以下のようにして取得できます。\n",
        "# 行数・列数の確認\n",
        "sample_array_2.shape"
      ]
    },
    {
      "cell_type": "markdown",
      "metadata": {
        "id": "ag_2piq4vcVs"
      },
      "source": [
        "### 4-8 実装：等差数列の作成\n",
        "\n",
        "アレイを作成する方法は、引数にリストを指定する以外にもさまざまあります。よく使うものをここではいくつか紹介します。\n",
        "\n",
        "まず等差数列の作成方法を解説します。等差数列とは例えば「1,2,3,4,5」のように前後の数値の差が等しい数列のことです。この例だと右の数値から左の数値を引くと1になります。同様に「0.1,0.3,0.5,0.7」も等差数列です。差分は0.2です。"
      ]
    },
    {
      "cell_type": "markdown",
      "metadata": {
        "id": "xsWb3ol8vcVs"
      },
      "source": [
        "#### 8-A arrange関数の利用\n",
        "\n",
        "・まずは「1,2,3,4,5」という、スタートが1で、差分が1の等差数列を作ります。np.arange関数を使います。\n",
        "\n",
        "・引数は開始位置start、終了位置stop、差分stepです。終了位置は「この位置に来たら終了」ですので、stopの位置はアレイの要素に含まれないことに注意してください。1から5までの数値が欲しいならstopはプラス1をして6とします。\n",
        "\n",
        "・関数を使う際start=といった引数の名前は省略できます。即ちnp.arange(0.1, 0.8, 0.2)としても結果は変わりません。"
      ]
    },
    {
      "cell_type": "code",
      "execution_count": null,
      "metadata": {
        "id": "QCqhLxuvvcVs"
      },
      "outputs": [],
      "source": [
        "# 1から5までの等差数列\n",
        "np.arange(start=1, stop=6, step=1)"
      ]
    },
    {
      "cell_type": "code",
      "execution_count": null,
      "metadata": {
        "id": "3UxsolcZvcVs"
      },
      "outputs": [],
      "source": [
        "np.arange(start=0.1, stop=0.8, step=0.2)"
      ]
    },
    {
      "cell_type": "code",
      "execution_count": null,
      "metadata": {
        "id": "XheUKCUhvcVs"
      },
      "outputs": [],
      "source": [
        "np.arange(0.1, 0.8, 0.2)"
      ]
    },
    {
      "cell_type": "markdown",
      "metadata": {
        "id": "rit_OKxJvcVt"
      },
      "source": [
        "#### 8-B linespace関数の利用\n",
        "\n",
        "np.linspace関数を使うことでも等差数列を作れます。np.arange関数は等差数列の差分値を指定しましたが、np.linspace関数は要素の数を指定します。要素の数は決まっている場合は、np.linspace関数を使う方が簡単です。\n",
        "1から5まで等差数列は以下のようにして作成します。num=5とは5等分するという指示になります。"
      ]
    },
    {
      "cell_type": "code",
      "execution_count": null,
      "metadata": {
        "id": "vDd8FuzJvcVt"
      },
      "outputs": [],
      "source": [
        "# 1から5までの等差数列\n",
        "np.linspace(start=1, stop=5, num=5)"
      ]
    },
    {
      "cell_type": "code",
      "execution_count": null,
      "metadata": {
        "id": "txKM7sRzvcVt"
      },
      "outputs": [],
      "source": [
        "np.linspace(start=1, stop=5, num=11)"
      ]
    },
    {
      "cell_type": "code",
      "execution_count": null,
      "metadata": {
        "id": "qNtk0bgIvcVt"
      },
      "outputs": [],
      "source": [
        "np.linspace(start=0.1, stop=0.7, num=4)"
      ]
    },
    {
      "cell_type": "markdown",
      "metadata": {
        "id": "-ldCSiEMvcVt"
      },
      "source": [
        "### 4-9 実装：様々なアレイの作成\n",
        "\n",
        "同じ値をたくさん格納したアレイを作る場合はnp.tile関数を使います。例えばAというアルファベットを5個格納した配列を作ります。同じ数値を複数格納することもできます。"
      ]
    },
    {
      "cell_type": "code",
      "execution_count": null,
      "metadata": {
        "id": "0AfZ3zItvcVt"
      },
      "outputs": [],
      "source": [
        "# 同じ値の繰り返し\n",
        "np.tile('A', 5)"
      ]
    },
    {
      "cell_type": "code",
      "execution_count": null,
      "metadata": {
        "id": "Lu63I8ppvcVt"
      },
      "outputs": [],
      "source": [
        "# 0を4回繰り返す\n",
        "np.tile(0, 4)"
      ]
    },
    {
      "cell_type": "markdown",
      "source": [
        "すべてゼロであるアレイはnp.zeros関数を使うと、より簡単に作成できます。引数にはアレイの要素数を指定します。\n",
        "2次元のアレイにもできます。要素数は[行数,列数]の順に指定します。\n",
        "1埋めもできます。np.ones関数を使います。"
      ],
      "metadata": {
        "id": "RpLCLMCeBi_8"
      }
    },
    {
      "cell_type": "code",
      "execution_count": null,
      "metadata": {
        "id": "0sJO75DSvcVu"
      },
      "outputs": [],
      "source": [
        "# ゼロ埋めのアレイ\n",
        "np.zeros(4)"
      ]
    },
    {
      "cell_type": "code",
      "execution_count": null,
      "metadata": {
        "id": "a94YChY1vcVu"
      },
      "outputs": [],
      "source": [
        "# 2次元配列\n",
        "np.zeros([2,3])"
      ]
    },
    {
      "cell_type": "code",
      "execution_count": null,
      "metadata": {
        "id": "r1FK6yxevcVu"
      },
      "outputs": [],
      "source": [
        "# 1埋めのアレイ\n",
        "np.ones(3)"
      ]
    },
    {
      "cell_type": "markdown",
      "metadata": {
        "id": "YFa6vWkOvcVu"
      },
      "source": [
        "### 4-10 実装：スライシング\n",
        "\n",
        "numpyのアレイは、スライシングという技法を使うことで簡単にデータを抽出できます。"
      ]
    },
    {
      "cell_type": "markdown",
      "metadata": {
        "id": "l4gA5FxmvcVu"
      },
      "source": [
        "#### 10-A 1次元のアレイの事例\n",
        "\n",
        "・まずは1行のアレイを作ります。以下ではd1_arrayを対象に要素を抽出します。\n",
        "\n",
        "・データを抽出する場合は角括弧を使います。例えばd1_arrayの最初の要素を取得する場合はd1_array[0]とします。インデックスは0から始まりであることに注意してください。\n",
        "\n",
        "・複数の要素を抽出する場合は、インデックスをリストで指定します。リストも角括弧を使うので角括弧が連続します。\n",
        "\n",
        "・範囲を指定して抽出する場合はコロン記号(:)を使うのが便利です。[1:3]のように実装すると、インデックスが1番と2番の要素が取得できます。"
      ]
    },
    {
      "cell_type": "code",
      "execution_count": null,
      "metadata": {
        "id": "5IUEVPC6vcVv"
      },
      "outputs": [],
      "source": [
        "# 1次元配列\n",
        "d1_array = np.array([1, 2, 3, 4, 5])\n",
        "d1_array"
      ]
    },
    {
      "cell_type": "code",
      "execution_count": null,
      "metadata": {
        "id": "NRUZc50pvcVv"
      },
      "outputs": [],
      "source": [
        "# 最初の要素を取得\n",
        "d1_array[0]"
      ]
    },
    {
      "cell_type": "code",
      "execution_count": null,
      "metadata": {
        "id": "q33W0Ah-vcVv"
      },
      "outputs": [],
      "source": [
        "# 2~3番目の要素を取得\n",
        "d1_array[[1, 2]]"
      ]
    },
    {
      "cell_type": "code",
      "execution_count": null,
      "metadata": {
        "id": "J7JXB1x7vcVv"
      },
      "outputs": [],
      "source": [
        "# 2~3番目の要素を取得\n",
        "d1_array[1:3]"
      ]
    },
    {
      "cell_type": "markdown",
      "metadata": {
        "id": "1U_-HUYpvcVv"
      },
      "source": [
        "#### 10-B 2次元のアレイの事例\n",
        "\n",
        "2行以上のアレイでも同様にデータを抽出できます。まずは2次元のアレイを作ります。"
      ]
    },
    {
      "cell_type": "code",
      "execution_count": null,
      "metadata": {
        "id": "VQVWeFg2vcVv"
      },
      "outputs": [],
      "source": [
        "# 2次元配列\n",
        "d2_array = np.array(\n",
        "    [[1, 2, 3, 4, 5],\n",
        "     [6, 7, 8, 9, 10]])\n",
        "d2_array"
      ]
    },
    {
      "cell_type": "markdown",
      "source": [
        "行インデックス・列インデックスの順番に番号を指定することで要素を抽出します。インデックスは0から始まりなので、以下のコードで1行4列目のデータが取得できます。"
      ],
      "metadata": {
        "id": "aWNIz8vFQXi5"
      }
    },
    {
      "cell_type": "code",
      "execution_count": null,
      "metadata": {
        "id": "qQU4GeUKvcVw"
      },
      "outputs": [],
      "source": [
        "d2_array[0, 3]"
      ]
    },
    {
      "cell_type": "markdown",
      "source": [
        "ここでもコロン記号を使うことで、複数の要素を抽出できます。以下のコードで2行目における3番目と4番目の要素を取得します。"
      ],
      "metadata": {
        "id": "JKxQInFZQpkv"
      }
    },
    {
      "cell_type": "code",
      "execution_count": null,
      "metadata": {
        "id": "5mJK3BtkvcV0"
      },
      "outputs": [],
      "source": [
        "d2_array[1, 2:4]"
      ]
    },
    {
      "cell_type": "markdown",
      "metadata": {
        "id": "dS--hMPivcV0"
      },
      "source": [
        "###4-11  実装：データフレーム\n",
        "\n",
        "ここからはpandasの解説に移ります。本節ではpandasのデータフレームという形式でデータを格納する方法を解説します。\n",
        "\n",
        "さまざまな作り方がありますが、アレイやリストを使うのが簡単です。中括弧を忘れないように注意してください。"
      ]
    },
    {
      "cell_type": "code",
      "execution_count": null,
      "metadata": {
        "id": "3g8foQMLvcV0"
      },
      "outputs": [],
      "source": [
        "sample_df = pd.DataFrame({\n",
        "    'col1' : sample_array,\n",
        "    'col2' : sample_array * 2,\n",
        "    'col3' : ['A', 'B', 'C', 'D', 'E']\n",
        "})\n",
        "print(sample_df)"
      ]
    },
    {
      "cell_type": "markdown",
      "source": [
        "データフレームは列の名称と列に格納するデータを'col1':sample_arrayのように指定します。アレイと異なり、データフレームは、列が異なれば、数値型と文字列型を混在できます。\n",
        "\n",
        "データフレームを表示させる際print関数を使っていますが、これは必須ではありません。print(sample_df)とせずに単にsample_dfと記述してもエラーにはなりません。ただし見た目が少し変わります。"
      ],
      "metadata": {
        "id": "VZL-ITSZRQ8Z"
      }
    },
    {
      "cell_type": "code",
      "execution_count": null,
      "metadata": {
        "id": "zdchBn0bvcV1"
      },
      "outputs": [],
      "source": [
        "# print関数を使わないで表示\n",
        "sample_df"
      ]
    },
    {
      "cell_type": "markdown",
      "metadata": {
        "id": "MMy1NHGzvcV1"
      },
      "source": [
        "### 4-12 実装：ファイルデータの読み込み\n",
        "\n",
        "データフレームは、自分で作ることもありますが、外部のデータを読み込む際にもしばしば使われます。\n",
        "\n",
        "調査データなどがCSVファイルで保存されており、作業中のフォルダに格納されている場合は、以下のようにしてデータを読み込むことができます。\n",
        "\n",
        "データを格納する変数名 = pd.read_csv(\"ファイル名\")\n",
        "\n",
        "今回は「2-4-1-sample_data.csv」というファイルを読み込みます。なお、このデータは本書サポートページからダウンロードできます。読み込まれたデータは、データフレームとなっています。\n",
        "\n",
        "Jupyter Notebook環境では直接pd.read_csv('2-4-1-sample_data.csv')の一行コードでデータファイルを読み込みますが、Colaboratoryの環境でfiles.upload()、データファイルをアップロード、とio.BytesIO(uploaded['2-4-1-sample_data.csv'])が前準備として必要となります。"
      ]
    },
    {
      "cell_type": "code",
      "source": [
        "from google.colab import files\n",
        "uploaded = files.upload()"
      ],
      "metadata": {
        "id": "M49xHIObVyPL"
      },
      "execution_count": null,
      "outputs": []
    },
    {
      "cell_type": "code",
      "source": [
        "import io\n",
        "data = io.BytesIO(uploaded['2-4-1-sample_data.csv'])"
      ],
      "metadata": {
        "id": "IAiVnddIV1rv"
      },
      "execution_count": null,
      "outputs": []
    },
    {
      "cell_type": "code",
      "execution_count": null,
      "metadata": {
        "id": "V4M0y8nyvcV1"
      },
      "outputs": [],
      "source": [
        "file_data = pd.read_csv(data)\n",
        "print(file_data)"
      ]
    },
    {
      "cell_type": "markdown",
      "metadata": {
        "id": "YxsrozCwvcV1"
      },
      "source": [
        "### 4-14 実装：データフレームの結合\n",
        "\n",
        "作成されたデータフレームを結合して、新たなデータフレームを作ることができます。\n",
        "\n",
        "まずはデータフレームを2つ作ります。各々3行2列です。"
      ]
    },
    {
      "cell_type": "code",
      "execution_count": null,
      "metadata": {
        "id": "5X1EyLpivcV1"
      },
      "outputs": [],
      "source": [
        "df_1 = pd.DataFrame({\n",
        "    'col1' : np.array([1, 2, 3]),\n",
        "    'col2' : np.array(['A', 'B', 'C'])\n",
        "})\n",
        "df_2 = pd.DataFrame({\n",
        "    'col1' : np.array([4, 5, 6]),\n",
        "    'col2' : np.array(['D', 'E', 'F'])\n",
        "})"
      ]
    },
    {
      "cell_type": "code",
      "execution_count": null,
      "metadata": {
        "id": "hSN762zrvcV2"
      },
      "outputs": [],
      "source": [
        "# 縦に結合\n",
        "print(pd.concat([df_1, df_2]))"
      ]
    },
    {
      "cell_type": "code",
      "execution_count": null,
      "metadata": {
        "id": "pZikPhZOvcV2"
      },
      "outputs": [],
      "source": [
        "# 横に結合、axis=1という引数を追加、axis=0は行方向、axis=1は列方向を指定、デフォルトは0\n",
        "print(pd.concat([df_1, df_2], axis=1))"
      ]
    },
    {
      "cell_type": "markdown",
      "metadata": {
        "id": "gry6mKs6vcV2"
      },
      "source": [
        "### 4-14 実装：特定の列の取得\n",
        "\n",
        "データフレームは、データの抽出等の操作を柔軟に行えます。よく使うものをここでは紹介します。"
      ]
    },
    {
      "cell_type": "code",
      "execution_count": null,
      "metadata": {
        "id": "2je5dRZNvcV2"
      },
      "outputs": [],
      "source": [
        "# 対象データ\n",
        "print(sample_df)"
      ]
    },
    {
      "cell_type": "code",
      "execution_count": null,
      "metadata": {
        "id": "WWRby1n4vcV3"
      },
      "outputs": [],
      "source": [
        "# 列名を指定して抽出、ドット記号を使う。\n",
        "print(sample_df.col2)"
      ]
    },
    {
      "cell_type": "code",
      "execution_count": null,
      "metadata": {
        "id": "N3RpNvzbvcV3"
      },
      "outputs": [],
      "source": [
        "# 列名を指定して抽出、角括弧を使う方法\n",
        "print(sample_df['col2'])"
      ]
    },
    {
      "cell_type": "code",
      "execution_count": null,
      "metadata": {
        "id": "MBECsdtlvcV3"
      },
      "outputs": [],
      "source": [
        "# 複数列を指定して抽出、列名を指定する角括弧の中にリスト形式で列名を複数指定。\n",
        "print(sample_df[['col2', 'col3']])"
      ]
    },
    {
      "cell_type": "code",
      "execution_count": null,
      "metadata": {
        "id": "TTT9iyo7vcV3"
      },
      "outputs": [],
      "source": [
        "# 列の削除、drop関数を使う。\n",
        "print(sample_df.drop('col1', axis=1))"
      ]
    },
    {
      "cell_type": "code",
      "source": [
        "# 行の削除、drop関数を使う。\n",
        "print(sample_df.drop(1, axis=0))"
      ],
      "metadata": {
        "id": "VTHkVqBnIQ0g"
      },
      "execution_count": null,
      "outputs": []
    },
    {
      "cell_type": "markdown",
      "metadata": {
        "id": "ts7se0HWvcV4"
      },
      "source": [
        "### 4-15 実装：特定の行の取得\n",
        "\n",
        "特定の行を取得するいくつかの方法を紹介します。"
      ]
    },
    {
      "cell_type": "code",
      "execution_count": null,
      "metadata": {
        "id": "Ee9KZUJAvcV4"
      },
      "outputs": [],
      "source": [
        "# 最初の3行だけを抽出\n",
        "print(sample_df.head(n=3))"
      ]
    },
    {
      "cell_type": "code",
      "execution_count": null,
      "metadata": {
        "id": "vT3i9u62vcV4"
      },
      "outputs": [],
      "source": [
        "# 最初の行を抽出\n",
        "print(sample_df.query('index == 0'))"
      ]
    },
    {
      "cell_type": "code",
      "execution_count": null,
      "metadata": {
        "id": "4RNvGXa0vcV4"
      },
      "outputs": [],
      "source": [
        "# さまざまな条件で抽出：col3という列の値がAである行のみを抽出します。\n",
        "print(sample_df.query('col3 == \"A\"'))"
      ]
    },
    {
      "cell_type": "markdown",
      "source": [
        "ダブルクォーテーションとシングルクォーテーションの使い分けに注意してください。今回は「文字列A」を、ダブルクォーテーションを使って\"A\"と指定しました。ここで、抽出条件も文字列として指定する必要があります。ここでもダブルクォーテーションを使ってしまうと、ダブルクォーテーションが4つ搭乗することになり、区切りが分からなくなります。そのため、抽出条件「col3=\"A\"」はシングルクォーテーションで囲っています。"
      ],
      "metadata": {
        "id": "yLthzfGqmW4T"
      }
    },
    {
      "cell_type": "markdown",
      "source": [
        "複数の条件を指定する方法を解説します。query('col3 == \"A\" | col3 == \"D\"')とすると、「col3がAまたはD」であるという条件で抽出できます。”または”の条件はOR条件とも呼ばれます。"
      ],
      "metadata": {
        "id": "zDTSYmx4m-0k"
      }
    },
    {
      "cell_type": "code",
      "execution_count": null,
      "metadata": {
        "id": "3bqRnFpGvcV5"
      },
      "outputs": [],
      "source": [
        "# OR条件で抽出\n",
        "print(sample_df.query('col3 == \"A\" | col3 == \"D\"'))"
      ]
    },
    {
      "cell_type": "markdown",
      "source": [
        "query('col3 == \"A\" & col1 == 3')とすると、「col3がAであり、且つ、col1が3である」という条件で抽出できます。”かつ”の条件はAND条件とも呼ばれます。今回のデータではこの条件に合致する行はありません。"
      ],
      "metadata": {
        "id": "IVCoeodUnZqg"
      }
    },
    {
      "cell_type": "code",
      "execution_count": null,
      "metadata": {
        "id": "EIwBHnnGvcV5"
      },
      "outputs": [],
      "source": [
        "# AND条件で抽出\n",
        "print(sample_df.query('col3 == \"A\" & col1 == 3'))"
      ]
    },
    {
      "cell_type": "code",
      "execution_count": null,
      "metadata": {
        "id": "lnBZKPQFvcV5"
      },
      "outputs": [],
      "source": [
        "# 行も列も選択する\n",
        "print(sample_df.query('col3 == \"A\"')[['col2', 'col3']])"
      ]
    },
    {
      "cell_type": "markdown",
      "metadata": {
        "id": "3owQ33ixvcV5"
      },
      "source": [
        "### 4-16 実装：シリーズ\n",
        "\n",
        "pandasデータフレームの1列だけを抽出したものは、シリーズと呼ばれる別のデータの型に変わります。\n",
        "\n",
        "まずはtype関数を使ってsample_dfのクラス名がDataFrameになっていることを確認します。次は1列だけを抽出した結果のクラス名を調べてみます。Seriesに変わっています。"
      ]
    },
    {
      "cell_type": "code",
      "execution_count": null,
      "metadata": {
        "id": "tCER0SbLvcV5"
      },
      "outputs": [],
      "source": [
        "type(sample_df)"
      ]
    },
    {
      "cell_type": "code",
      "execution_count": null,
      "metadata": {
        "id": "zj6mtJ69vcV6"
      },
      "outputs": [],
      "source": [
        "type(sample_df.col1)"
      ]
    },
    {
      "cell_type": "markdown",
      "source": [
        "1列だけを抽出すると勝手にシリーズ形式になるため、分析をしているとしばしばシリーズ型が登場します。\n",
        "\n",
        "シリーズはアレイとほぼ同様に扱えるものの、アレイの方が行列演算を簡単に実行できるなど若干の違いがあります。シリーズをアレイに変換する場合はnp.arrayの引数にシリーズを入れます。または、シリーズの後ろに.to_numpy()とつけることでも、アレイとして扱えます。"
      ],
      "metadata": {
        "id": "gOO2Yh9u6ioh"
      }
    },
    {
      "cell_type": "code",
      "execution_count": null,
      "metadata": {
        "id": "7sCfzkUOvcV6"
      },
      "outputs": [],
      "source": [
        "# アレイへの変換\n",
        "type(np.array(sample_df.col1))"
      ]
    },
    {
      "cell_type": "code",
      "execution_count": null,
      "metadata": {
        "id": "ZkM6bmo8vcV6"
      },
      "outputs": [],
      "source": [
        "# アレイへの変換\n",
        "type(sample_df.col1.to_numpy())"
      ]
    },
    {
      "cell_type": "markdown",
      "metadata": {
        "id": "uxgyWxb7vcV6"
      },
      "source": [
        "### 4-17 実装：関数のヘルプ\n",
        "\n",
        "関数の使い方をすべて覚えるのは大変です。Pythonには便利なヘルプ関数が容易されています。query関数の場合は、以下のコードを実行すると、関数の使い方が表示されます。英語ではありますが、実行例が載っていることもあるので、参考になることが多いと思います。"
      ]
    },
    {
      "cell_type": "code",
      "execution_count": null,
      "metadata": {
        "scrolled": false,
        "id": "MwuHFVBEvcV6"
      },
      "outputs": [],
      "source": [
        "help(sample_df.query)"
      ]
    },
    {
      "cell_type": "markdown",
      "source": [],
      "metadata": {
        "id": "Cu9gLGNWhN-E"
      }
    },
    {
      "cell_type": "markdown",
      "metadata": {
        "id": "7KGvci5u8eCW"
      },
      "source": [
        "# 第3部　記述統計\n"
      ]
    },
    {
      "cell_type": "markdown",
      "source": [
        "## 1章　データの分類\n",
        "\n",
        "データ分析のすべての基礎となる、データの分類について解説します。データを扱う際の用語の整理という位置づけです。多くの用語が登場します。すべてを一度に覚えきる必要はありません。"
      ],
      "metadata": {
        "id": "gk1wEjJt816M"
      }
    },
    {
      "cell_type": "markdown",
      "source": [
        "### 1-1 用語：観測・変数\n",
        "\n",
        "**観測**は、名前の通り調査などによって観測された個別の対象を指します。同様の意味で個体やケースと呼ぶこともあります。\n",
        "\n",
        "調査項目のことは**変数**と呼びます。プログラミングにおける変数とは異なる意味なので注意しましょう。\n",
        "\n",
        "例えば、湖の中にいる魚を対象に標本調査を行い、以下の表の結果が得られたとします、この時、「魚の種類」や「体長」が変数です。個別の対象、例えば、魚種はAで、体長は2cmといった結果は観測や個体と呼びます。\n",
        "\n",
        "| 魚の種類 | 体長(㎝) |\n",
        "| --- | --- |\n",
        "| A | 2 |\n",
        "| A | 4 |\n",
        "| B | 8 |\n",
        "| B | 9 |\n",
        "\n",
        "表の列名が変数に対応し、行が観測に対応するようにデータを整理すると扱いやすいです。pandasのデータフレームとしてデータを管理する場合も、なるべくこの形式にすべきです。"
      ],
      "metadata": {
        "id": "IS5dnPa5OzZM"
      }
    },
    {
      "cell_type": "markdown",
      "source": [
        "### 1-2 用語：数値データ・カテゴリーデータ\n",
        "\n",
        "最初の分類は、定量的か定量的ではないかというものです。\n",
        "定量的な変数を量的変数と呼びます。数量データや量的データと呼ぶこともあります。例えば魚の体長は数量データです。\n",
        "定量的ではない変数は質的変数やカテゴリー変数と呼びます。カテゴリーデータや質的データと呼ぶこともあります。例えば魚の種類はカテゴリーデータです。\n"
      ],
      "metadata": {
        "id": "HNwbvssfUPeP"
      }
    },
    {
      "cell_type": "markdown",
      "source": [
        "### 1-3 用語：離散型のデータ・連続型のデータ\n",
        "\n",
        "数量データをさらに二つに分けます。魚の数は1尾、2尾、といったように整数しか取りません。このような数量データを離散型のデータと呼びます。\n",
        "\n",
        "一方で魚の体長は、2.34cm、4.25cmといったように小数点以下の値を取り、連続的に変化します。（別の定義により、連続データとは、無限に分割可能な尺度や連続体によって測定可能なデータのことです。いくらでも細かく区分できます。）このような数量データを連続型のデータと呼びます。"
      ],
      "metadata": {
        "id": "ypMGQwC6WAaO"
      }
    },
    {
      "cell_type": "markdown",
      "source": [
        "### 1-4 用語：2値データ・多値データ\n",
        "\n",
        "カテゴリーデータをさらに2つに分けます。\n",
        "コインは裏と表の2つしか取りません。2つのカテゴリーしか取らないデータを2値データと呼びます。一方で、魚の種類は3つ以上の値をとります。この場合は多値データと呼びます。"
      ],
      "metadata": {
        "id": "RZaqZZTPZIva"
      }
    },
    {
      "cell_type": "markdown",
      "source": [
        "### 1-6 用語：1変量データ・多変量データ\n",
        "\n",
        "1つの変数だけからなるデータを1変量データや1次元データと呼びます。例えば魚の体長だけを測定したならば、それは1変量データです。魚の種類だけを測定しても、これは1変量データです。\n",
        "2つ以上の変数からなるデータを多変量データや多次元データと呼びます。例えば魚の体長と魚の種類の2つを同時に測定したデータは多変量データです。\n",
        "多変量データを分析する場合は、変数同士の関連性を調べることも重要な課題になります。"
      ],
      "metadata": {
        "id": "5x0oUfZFZqd0"
      }
    },
    {
      "cell_type": "markdown",
      "source": [
        "### 1-7 用語：時系列データ・クロスセクションデータ\n",
        "\n",
        "データの取得状況からデータを分類します。\n",
        "時系列データは名前の通り時間によって変化するデータです。同一の対象を異なった時点で測定した結果となります。時系列データは並び順に意味があるのが特徴です。\n",
        "\n",
        "クロスセクションデータは、異なる対象から得られたデータです。例えばあるチェーン店のオーナーが2000年1月における、自社店舗100店の売上を分析する、という場合は、100店舗の売り上げデータはクロスセクションデータとなります。"
      ],
      "metadata": {
        "id": "yvWMzNb6agA1"
      }
    },
    {
      "cell_type": "markdown",
      "source": [
        "## 2章　数式の読み方"
      ],
      "metadata": {
        "id": "5STvxctbbdIM"
      }
    },
    {
      "cell_type": "markdown",
      "source": [
        "### 2-2　標本を数式で表記する\n",
        "\n",
        "まず、標本を数式で表現することを試みます。サンプルサイズを*n*としたとき、標本は以下のように表記されます。\n",
        "\n",
        "$\\{x_i\\}_{i=1}^n=\\{x_1,x_2,...,x_n\\}$\n",
        "\n",
        "個別のデータを、添え字をつけた記号$x_i$と表記しました。例えば2番目のデータを指した示したい時は$x_2$と表記します。\n",
        "\n",
        "サンプルサイズはNumberの頭文字でnを使うことが多いです。しかし、複数の標本があり、サンプルサイズが各々で異なるという場合は別の記号を使うこともあります。"
      ],
      "metadata": {
        "id": "ZM9-1QNcdqJq"
      }
    },
    {
      "cell_type": "markdown",
      "source": [
        "### 2-4/５/６　足し算と$Σ$記号\n",
        "\n",
        "標本を数式で表現した次のステップとして、標本に対する計算処理を数式で表現する方法を解説します、\n",
        "\n",
        "合計値を表記する場合には、$Σ$記号を使います。\n",
        "まず、標本を数式で表現することを試みます。サンプルサイズを*n*としたとき、標本は以下のように表記されます。\n",
        "\n",
        "$標本の合計値=Σ_{i=1}^nx_i$\n",
        "\n",
        "「添え字*i*を1から*n*まで、$x_i$を足し合わせる」ということです。\n",
        "\n",
        "平均値を数式で表記すると以下のようになります。標本xの平均値である標本平均は伝統的に$x^̄$と表記することが多いです。\n",
        "\n",
        "$x^̄=\\frac{1}{n}Σ_{i=1}^nx_i$\n",
        "\n",
        "$Σ$記号は足し算の総和記号で、$∏$はすべての値を掛け合わせる記号です。"
      ],
      "metadata": {
        "id": "m3f-nsbEgNAm"
      }
    },
    {
      "cell_type": "markdown",
      "source": [
        "## 3章　度数分布\n",
        "\n",
        "本章では度数分布について解説します。また、度数分布を可視化したヒストグラムと呼ばれるグラフも紹介します。最後に、少し応用的な話題としてカーネル密度推定を紹介します。"
      ],
      "metadata": {
        "id": "rlGQowT38kxX"
      }
    },
    {
      "cell_type": "markdown",
      "source": [
        "### 3-1 なぜさまざまな集計の方法を学ぶのか\n",
        "\n",
        "平均値だけを使ってデータの集計を行うことは全くお勧めできません。例えば、以下のような貯金額のデータが得られたとします。\n",
        "\n",
        "Aさん：1億円\n",
        "Bさん：0円\n",
        "Cさん：0円\n",
        "Dさん：0円\n",
        "\n",
        "4人の平均貯金額は2500万円です。ここで「なるほど平均貯金額はとても高いから、みんな裕福なんだな」と考えるのは明らかな間違いです。4人中3人は貯金額が0円で困窮しているのですから。\n",
        "\n",
        "平均値だけを使ったデータ分析からの脱却として本章では度数分布表の利用方法を解説します。"
      ],
      "metadata": {
        "id": "PpHRs3KLkRIb"
      }
    },
    {
      "cell_type": "markdown",
      "source": [
        "### 3-2 用語：度数・度数分布\n",
        "\n",
        "度数とは、そのデータがが笑われた回数、言い換えると頻度のことです。\n",
        "\n",
        "例えば3cmの魚が2尾だけ釣れたならば、3cmの魚の度数は2です。\n",
        "\n",
        "度数分布とは、データが出てきた回数の一覧です。度数分布を一覧にした表を度数分布表と呼びます。\n",
        "\n",
        "3-1節の貯金額データならば、貯金額が1億円である度数は1でう、0円である度数は3となります。度数分布表を使えば、3人は貯金が0円で、とても困っているのが一目で分かります。"
      ],
      "metadata": {
        "id": "TLIRCWob-VTJ"
      }
    },
    {
      "cell_type": "markdown",
      "source": [
        "### 3-3 用語：階級・階級値\n",
        "\n",
        "カテゴリーデータの場合、度数を得ることは難しくありません。カテゴリーごとに観測された回数を記録するだけです。\n",
        "\n",
        "一方で数量データの場合、度数を得るのには若干の工夫が必要です。特に連続型のデータの場合は、完全に数値が一致するという状況が想定しにくいことがあります。この場合、数値をいくつかの範囲に区切ることがしばしばあります。この区切りのことを階級と呼びます。\n",
        "\n",
        "階級を代表する値を階級値と呼びます。範囲の最大と最小の中間の値等が階級値として使われます。例えば「$1.5≤体長<2.5$」という階級を設定した時の階級値は2です。数量データの場合は、この階級に属するデータの個数を数えることで、度数分布を得ることが多いです。"
      ],
      "metadata": {
        "id": "yaHDhtz2-WqZ"
      }
    },
    {
      "cell_type": "markdown",
      "metadata": {
        "collapsed": true,
        "id": "cH9trMCS8eCa"
      },
      "source": [
        "### 3-4 実装：分析の準備\n",
        "\n",
        "Pythonを利用して、実際に度数分布を求めます。まずは必要なライブラリの読み込みなどを行います。"
      ]
    },
    {
      "cell_type": "code",
      "execution_count": null,
      "metadata": {
        "id": "YII1SSGM8eCb"
      },
      "outputs": [],
      "source": [
        "# 数値計算に使うライブラリ\n",
        "import numpy as np\n",
        "import pandas as pd"
      ]
    },
    {
      "cell_type": "markdown",
      "metadata": {
        "id": "J-LueuiO8eCc"
      },
      "source": [
        "### 3-5 実装：度数分布"
      ]
    },
    {
      "cell_type": "code",
      "execution_count": null,
      "metadata": {
        "id": "Cw0SA9Nv8eCc"
      },
      "outputs": [],
      "source": [
        "# 表示設定(書籍本文のレイアウトと合わせるためであり、必須ではありません)\n",
        "np.set_printoptions(linewidth=60)\n",
        "pd.set_option('display.width', 60)"
      ]
    },
    {
      "cell_type": "markdown",
      "metadata": {
        "id": "zF2i3kGB8eCc"
      },
      "source": [
        "#### 5-A カテゴリーデータの度数分布\n",
        "\n",
        "カテゴリーデータに対して度数分布を求めます。対照となるデータを読み込みます。魚の種類名が記録されたデータです。"
      ]
    },
    {
      "cell_type": "code",
      "source": [
        "from google.colab import files\n",
        "uploaded = files.upload()"
      ],
      "metadata": {
        "id": "5EG-uzRVVc5J"
      },
      "execution_count": null,
      "outputs": []
    },
    {
      "cell_type": "code",
      "execution_count": null,
      "metadata": {
        "id": "zYcCRv5A8eCd"
      },
      "outputs": [],
      "source": [
        "# データの読み込み\n",
        "import io\n",
        "category_data = pd.read_csv(io.BytesIO(uploaded['3-3-1-fish-species.csv']))\n",
        "print(category_data)"
      ]
    },
    {
      "cell_type": "code",
      "execution_count": null,
      "metadata": {
        "id": "AcllsdK88eCe"
      },
      "outputs": [],
      "source": [
        "# カテゴリーデータの度数分布、pandasのvalue_counts関数を使う。\n",
        "category_data.species.value_counts(sort=False)"
      ]
    },
    {
      "cell_type": "markdown",
      "source": [
        "データフレームであるcategory_dataからspecies列のみを抽出した結果はシリーズ型になるのでした。これに対してvalue_counts関数を適用します。sort=Falseを指定することで、度数の順に並び替えられるのを防いでいます。"
      ],
      "metadata": {
        "id": "ywse550WaveY"
      }
    },
    {
      "cell_type": "code",
      "source": [
        "print(type(category_data))\n",
        "# create a new row\n",
        "new_row = [{'species': \"C\"},{'species': \"C\"},{'species':\"C\"},{'species':\"C\"}]\n",
        "print(pd.DataFrame(new_row))\n",
        "\n",
        "category_data= pd.concat([category_data,pd.DataFrame(new_row)], axis=0)\n",
        "\n",
        "print(category_data)\n",
        "\n",
        "category_data.species.value_counts(sort=False) #ここはsort=Trueの場合どうなるかを試してください。"
      ],
      "metadata": {
        "id": "FFC3Rl0mbXvm"
      },
      "execution_count": null,
      "outputs": []
    },
    {
      "cell_type": "markdown",
      "metadata": {
        "id": "d1YIb2Xj8eCe"
      },
      "source": [
        "#### 5-B 数量データの度数分布\n",
        "\n",
        "数量データに対して度数分布を求めます。対照となるデータを読み込みます。魚の体長が記録されたデータです。"
      ]
    },
    {
      "cell_type": "code",
      "source": [
        "from google.colab import files\n",
        "uploaded = files.upload()"
      ],
      "metadata": {
        "id": "zM5so61LhD03"
      },
      "execution_count": null,
      "outputs": []
    },
    {
      "cell_type": "code",
      "execution_count": null,
      "metadata": {
        "id": "blGhi4Wi8eCe"
      },
      "outputs": [],
      "source": [
        "import io\n",
        "# データの読み込み\n",
        "numeric_data = pd.read_csv(io.BytesIO(uploaded['3-3-2-fish-length.csv']))\n",
        "print(numeric_data)"
      ]
    },
    {
      "cell_type": "code",
      "execution_count": null,
      "metadata": {
        "id": "GUDpoiMJ8eCf"
      },
      "outputs": [],
      "source": [
        "# 数量データの度数分布（うまくいかない例）\n",
        "numeric_data.length.value_counts()"
      ]
    },
    {
      "cell_type": "markdown",
      "source": [
        "サンプルサイズは小さいので、value_counts関数を使うと、同じ数値は存在しません。この場合、以下のようにbins=3と指定することで、データを3つに区切ったうえで、度数を得ることができます。"
      ],
      "metadata": {
        "id": "8W1cMltrgY2P"
      }
    },
    {
      "cell_type": "code",
      "execution_count": null,
      "metadata": {
        "id": "fAh1ywsh8eCf"
      },
      "outputs": [],
      "source": [
        "# 数量データの度数分布(3区分)\n",
        "numeric_data.length.value_counts(bins=3)"
      ]
    },
    {
      "cell_type": "markdown",
      "source": [
        "0.715より大きく、1.98以下であるデータは6個あることが分かります。1.98より大きく、3.24以下であるデータは2個あります。3.24より大きく、4.5以下であるデータも2個あります。「下限は含まないが、上限は含む」というルールで数えていることに注意してください。\n",
        "\n",
        "階級の下限と上限を直接与えることもできます。例えば、以下のように0から5までの等差数列として階級を与えるとします。"
      ],
      "metadata": {
        "id": "2ONG1NMCh8xg"
      }
    },
    {
      "cell_type": "code",
      "execution_count": null,
      "metadata": {
        "id": "Iw1Smn0d8eCg"
      },
      "outputs": [],
      "source": [
        "# 階級の上限と下限\n",
        "np.arange(0, 6, 1)"
      ]
    },
    {
      "cell_type": "markdown",
      "source": [
        "この階級を以下のようにbinsに指定することで、度数が得られます。結果を後で使いまわせるように、度数分布をfreqという名前で保存しました。"
      ],
      "metadata": {
        "id": "X6AGOdaYjLrV"
      }
    },
    {
      "cell_type": "code",
      "execution_count": null,
      "metadata": {
        "id": "tZf3-HfW8eCg"
      },
      "outputs": [],
      "source": [
        "# 数量データの度数分布(階級の上限と下限を指定)\n",
        "freq = numeric_data.length.value_counts(\n",
        "    bins=np.arange(0, 6, 1), sort=False)\n",
        "freq"
      ]
    },
    {
      "cell_type": "markdown",
      "metadata": {
        "id": "ULoy8aT88eCg"
      },
      "source": [
        "#### 5-C numpyの関数を使う\n",
        "\n",
        "別の方法で度数分布を得ることができます。np.histogramを使います。まずはデータを3区分に分けて度数を得ます。"
      ]
    },
    {
      "cell_type": "code",
      "execution_count": null,
      "metadata": {
        "id": "u0I0OyQS8eCh"
      },
      "outputs": [],
      "source": [
        "# 数量データの度数分布(3区分)\n",
        "np.histogram(numeric_data.length, bins=3)"
      ]
    },
    {
      "cell_type": "markdown",
      "source": [
        "出力は2つのアレイです。1つ目のアレイであるarray([6, 2, 2], dtype=int64)は度数を表します。\n",
        "\n",
        "2つ目のアレイであるarray([0.72, 1.98, 3.24, 4.5 ])は、階級の下限と上限の一覧を表します。"
      ],
      "metadata": {
        "id": "Pa3eQsMWj6zB"
      }
    },
    {
      "cell_type": "code",
      "execution_count": null,
      "metadata": {
        "id": "zK9EisQE8eCh"
      },
      "outputs": [],
      "source": [
        "# 参考：度数だけを取得した結果(書籍には載っていないコードです)\n",
        "np.histogram(numeric_data.length, bins=3)[0]"
      ]
    },
    {
      "cell_type": "markdown",
      "source": [
        "binsに階級の上限と下限を指定することもできます。"
      ],
      "metadata": {
        "id": "uED5oaUjkoaT"
      }
    },
    {
      "cell_type": "code",
      "execution_count": null,
      "metadata": {
        "id": "OVi1DjNe8eCh"
      },
      "outputs": [],
      "source": [
        "# 数量データの度数分布(階級の上限と下限を指定)\n",
        "# 下限を含み、上限を含まないので注意\n",
        "np.histogram(numeric_data.length, bins=np.arange(0, 6, 1))"
      ]
    },
    {
      "cell_type": "markdown",
      "source": [
        "np.histogram関数を使う場合、結果はvalue_counts関数の結果と異なっていることに注意してください。np.histogram関数は下限を含むため、「ちょうど1cm」のデータの取り扱いが変わっています。それ以外はほぼ同様に利用できます。"
      ],
      "metadata": {
        "id": "Zw4Q8PVNpHIy"
      }
    },
    {
      "cell_type": "markdown",
      "source": [
        "### 3-6 用語：相対度数分布・累積度数分布\n",
        "\n",
        "相対度数分布は、全体を1としたときの、度数の占める割合の一覧です。度数をサンプルサイズで割ることで得られます。\n",
        "\n",
        "累積度数分布は、度数の累積値をとったものです。相対度数分布の累積値をとった累積相対度数分布もしばしば利用されます。"
      ],
      "metadata": {
        "id": "DcEMzAKfk2um"
      }
    },
    {
      "cell_type": "markdown",
      "metadata": {
        "id": "Pn9U8fOr8eCi"
      },
      "source": [
        "### 3-7 実装：相対度数分布・累積度数分布\n",
        "\n",
        "3-5節で計算した魚の体長データの度数であるfreqを対象にして、相対度数分布と累積度数分布を求めます。"
      ]
    },
    {
      "cell_type": "markdown",
      "metadata": {
        "id": "FcMyMac-8eCi"
      },
      "source": [
        "#### 7-A 相対度数分布\n",
        "\n",
        "いくつかの方法があります。\n",
        "\n",
        "方法（1）まずは定義通り、度数をサンプルサイズで割ることで相対度数を求めます。"
      ]
    },
    {
      "cell_type": "code",
      "execution_count": null,
      "metadata": {
        "id": "hKomFv-58eCi"
      },
      "outputs": [],
      "source": [
        "# 相対度数分布\n",
        "rel_freq = freq / sum(freq)\n",
        "rel_freq"
      ]
    },
    {
      "cell_type": "markdown",
      "source": [
        "方法（2）value_counts関数を使う際にnormalize=Trueと設定すると、最初から割合を計算してくれます。"
      ],
      "metadata": {
        "id": "vio-lO9wmxwf"
      }
    },
    {
      "cell_type": "code",
      "execution_count": null,
      "metadata": {
        "id": "dpiZzcoF8eCi"
      },
      "outputs": [],
      "source": [
        "# value_counts関数の設定を変える\n",
        "numeric_data.length.value_counts(bins=np.arange(0, 6, 1),\n",
        "                                 sort=False,\n",
        "                                 normalize=True)"
      ]
    },
    {
      "cell_type": "markdown",
      "source": [
        "方法（3）np.hinstogram関数を使う場合はdensity=Trueとします。"
      ],
      "metadata": {
        "id": "ZRjkjugjnJMF"
      }
    },
    {
      "cell_type": "code",
      "execution_count": null,
      "metadata": {
        "id": "MvNeF7eI8eCi"
      },
      "outputs": [],
      "source": [
        "# np.hinstogram関数の設定を変える\n",
        "np.histogram(numeric_data.length, bins=np.arange(0, 6, 1),\n",
        "             density=True)"
      ]
    },
    {
      "cell_type": "markdown",
      "metadata": {
        "id": "8AOeGqGA8eCi"
      },
      "source": [
        "#### 7-B 累積度数分布\n",
        "\n",
        "累積度数分布を求める際には、累積値を計算するcumsum関数を使います。"
      ]
    },
    {
      "cell_type": "code",
      "execution_count": null,
      "metadata": {
        "id": "cq1me4py8eCi"
      },
      "outputs": [],
      "source": [
        "# 累積度数分布\n",
        "freq.cumsum()"
      ]
    },
    {
      "cell_type": "markdown",
      "source": [
        "np.histogram関数の結果に対しては、要素インデックス[0]を指定して度数だけを取得したうえで、np.cumsum関数を適用します。"
      ],
      "metadata": {
        "id": "QOduZiYoni_D"
      }
    },
    {
      "cell_type": "code",
      "execution_count": null,
      "metadata": {
        "id": "lNqDK6rb8eCj"
      },
      "outputs": [],
      "source": [
        "freq_np = np.histogram(numeric_data.length,\n",
        "                       bins=np.arange(0, 6, 1))[0]\n",
        "np.cumsum(freq_np)"
      ]
    },
    {
      "cell_type": "markdown",
      "source": [
        "#### 7-C 累積相対度数分布\n",
        "\n",
        "相対度数分布に対して累積値を計算すると、累積相対度数分布が得られます。"
      ],
      "metadata": {
        "id": "DfOJJsQasI_C"
      }
    },
    {
      "cell_type": "code",
      "execution_count": null,
      "metadata": {
        "id": "YWOwgEK08eCj"
      },
      "outputs": [],
      "source": [
        "# 累積相対度数分布\n",
        "rel_freq.cumsum()"
      ]
    },
    {
      "cell_type": "markdown",
      "metadata": {
        "id": "_pJKDyG88eCj"
      },
      "source": [
        "### 3-9 グラフ描画とmatplotlib・seaborn\n",
        "\n",
        "ヒストグラムを描くために、グラフを描くする2つのライブラリを紹介します。以下のようにしてライブラリを読み込みます。"
      ]
    },
    {
      "cell_type": "code",
      "execution_count": null,
      "metadata": {
        "id": "SRQ5lysV8eCj"
      },
      "outputs": [],
      "source": [
        "# グラフを描画するライブラリ\n",
        "from matplotlib import pyplot as plt\n",
        "import seaborn as sns\n",
        "sns.set()"
      ]
    },
    {
      "cell_type": "code",
      "execution_count": null,
      "metadata": {
        "id": "I0hSQxPE8eCk"
      },
      "outputs": [],
      "source": [
        "# 表示設定(書籍本文のレイアウトと合わせるためであり、必須ではありません)\n",
        "from matplotlib.pylab import rcParams\n",
        "rcParams['figure.figsize'] = 6, 3"
      ]
    },
    {
      "cell_type": "markdown",
      "metadata": {
        "id": "WcpV5oEn8eCk"
      },
      "source": [
        "### 3-10 実装：ヒストグラム\n",
        "\n",
        "本書ではseabornを積極的に使います。ただしseabornはmatplotlibとも相性がよく、matplotlibの機能を使ってグラフを装飾できます。\n",
        "\n",
        "ヒストグラムを描く関数はseabornの中でもいくつかあります。"
      ]
    },
    {
      "cell_type": "markdown",
      "metadata": {
        "id": "CrbMLl5g8eCk"
      },
      "source": [
        "#### matplotlibを使う方法(参考)"
      ]
    },
    {
      "cell_type": "code",
      "source": [
        "# 参考：matplotlibを使ったヒストグラム(書籍には載っていないコードです)\n",
        "hist = plt.hist(x='length', data=numeric_data,\n",
        "                bins=np.arange(0, 6, 1), color='gray')"
      ],
      "metadata": {
        "id": "XSRT4d9ZxkHt"
      },
      "execution_count": null,
      "outputs": []
    },
    {
      "cell_type": "code",
      "execution_count": null,
      "metadata": {
        "id": "sTFik2o_8eCk"
      },
      "outputs": [],
      "source": [
        "# 参考：matplotlibを使ったヒストグラム(書籍には載っていないコードです)\n",
        "hist = plt.hist(x='length', data=numeric_data,\n",
        "                bins=np.arange(0, 6, 1), color='gray')"
      ]
    },
    {
      "cell_type": "markdown",
      "metadata": {
        "id": "SXCG8tbT8eCk"
      },
      "source": [
        "#### seabornを使う方法\n",
        "\n",
        "ここではsns.histplot関数を使います。引数x='length'とdata=numeric_dataで「numeric_dataのlength列」を対象にヒストグラムを描くように指定します。colorでヒストグラムの色を、binsで階級を指定します。\n",
        "\n",
        "ヒストグラムを見ることで、データの分布が視覚的に分かります。このヒストグラムの縦軸は度数です。0以上1未満のデータは1つだけで、1以上2未満のデータは5つあり…と度数分布と同様に解釈できます。結果はnp.histogram関数の結果と一致します。"
      ]
    },
    {
      "cell_type": "code",
      "execution_count": null,
      "metadata": {
        "id": "-lfIFSUP8eCk"
      },
      "outputs": [],
      "source": [
        "sns.histplot(x='length', data=numeric_data, color='gray',\n",
        "             bins=np.arange(0, 6, 1))"
      ]
    },
    {
      "cell_type": "markdown",
      "source": [
        "ヒストグラムの柱の面積を相対度数とみなせるように標準化した結果を得ることもできます。stat='density'と指定します。"
      ],
      "metadata": {
        "id": "LDg30tYHfLey"
      }
    },
    {
      "cell_type": "code",
      "execution_count": null,
      "metadata": {
        "id": "pVYfQ6Tf8eCl"
      },
      "outputs": [],
      "source": [
        "# 柱の面積を相対度数にする\n",
        "sns.histplot(x='length', data=numeric_data, color='gray',\n",
        "             bins=np.arange(0, 6, 1), stat='density')"
      ]
    },
    {
      "cell_type": "markdown",
      "metadata": {
        "id": "ADj7tkUD8eCl"
      },
      "source": [
        "### 3-11 実装：階級の幅が異なるヒストグラム\n",
        "\n",
        "今までは階級の幅が常に等しくなるようにbinsを設定しました。しかし、階級の幅は任意に設定できます。もちろん異なる幅にすることもできます。階級を「0以上、1未満」、「1以上、2未満」、「2以上、5未満」と最後の階級だけ長くとった際の度数分布を得ます。\n",
        "\n",
        "ここで、「2以上、5未満」のデータは4つあるため、本らの相対度数は0.4となるはずです。けれども「2以上、5未満」の階級に属するデータのヒストグラムの柱の高さは0.13333333となりました。\n",
        "\n",
        "ヒストグラムは、その面積を相対度数として解釈できます。「2以上、5未満」のデータは、全体の40%を占めます。そして「2以上、5未満」という階級におけるヒストグラムの柱の横幅は3です。そのため「柱の高さ*柱の横幅」即ち0.13333333*3とすることで、40%という割合が計算できます。np.histogram関数やsns.histplot関数において、異なる階級の幅を設定した時の挙動はやや複雑ですので注意してください。"
      ]
    },
    {
      "cell_type": "code",
      "execution_count": null,
      "metadata": {
        "id": "EQ0ATlGu8eCl"
      },
      "outputs": [],
      "source": [
        "# np.hinstogram関数の設定を変える\n",
        "np.histogram(numeric_data.length, bins=np.array([0, 1, 2, 5]),\n",
        "             density=True)"
      ]
    },
    {
      "cell_type": "code",
      "execution_count": null,
      "metadata": {
        "id": "iD_uuk8v8eCl"
      },
      "outputs": [],
      "source": [
        "# 階級の幅を変える\n",
        "sns.histplot(x='length', data=numeric_data, color='gray',\n",
        "             bins=np.array([0, 1, 2, 5]), stat='density')"
      ]
    },
    {
      "cell_type": "markdown",
      "source": [
        "### 3-12 用語：カーネル密度推定によるヒストグラム平滑化\n",
        "\n",
        "ヒストグラムのとよく似た結果が得られる、カーネル密度推定について解説します。やや高度な内容が含まれます。特に仕組みに関しては、難しいと感じたら飛ばしても大丈夫です。"
      ],
      "metadata": {
        "id": "Sbn98wWPt4zT"
      }
    },
    {
      "cell_type": "markdown",
      "source": [
        "#### 12-A カーネル密度推定の基本\n",
        "\n",
        "ヒストグラムのを平滑化するためにカーネル密度推定が用いられます。ヒストグラムは、データの分布が一目でわかる便利なグラフですが、階級ごとに段差が生じます。カーネル密度推定を用いることで、この段差をなくして滑らかな分布を提示できます。"
      ],
      "metadata": {
        "id": "CsPHoSwsuSyo"
      }
    },
    {
      "cell_type": "markdown",
      "source": [
        "#### 12-B カーネル密度推定の仕組み\n",
        "\n",
        "まずは、ラグプロットと呼ばれるグラフを紹介します。ラグプロットはデータの1を縦棒で示したものです。\n",
        "\n",
        "下記はnumeric_data.lengthを対象にラグプロットを描いた結果です。横軸が体長です。体長の最小値である0.72や、2番目に小さい値である1.00の位置に縦棒が配置されています。\n",
        "\n",
        "続いてこのラグプロットにガウス曲線を加えます。ガウス曲線については第4部第4章で解説しますが、左右対称のいわゆる釣り鐘型(ベル型)と呼ばれる形をしているのが特徴です。\n",
        "\n",
        "最小値0.72を中心としたガウス曲線を描きました。最後に、ガウス曲線の値をすべて合計します。この結果がカーネル密度推定の結果となります。こうすることで、データが集中している箇所は、密度が高いと評価されます。"
      ],
      "metadata": {
        "id": "VW3FPpvCuwUi"
      }
    },
    {
      "cell_type": "code",
      "source": [
        "import scipy\n",
        "sns.distplot(numeric_data['length'], kde=True, rug=True, hist=False, color='red', bins=np.arange(0, 6, 1))\n",
        "\n",
        "\n",
        "x_pdf = np.linspace(-3, 7, 100)\n",
        "y_pdf = scipy.stats.norm.pdf(x_pdf, 0.72, 1)\n",
        "plt.plot(x_pdf, y_pdf/10, c='r')\n",
        "\n",
        "x_pdf = np.linspace(-3, 7, 100)\n",
        "y_pdf = scipy.stats.norm.pdf(x_pdf, 1.91, 1)\n",
        "plt.plot(x_pdf, y_pdf/10, c='r')\n",
        "\n",
        "x_pdf = np.linspace(-3, 7, 100)\n",
        "y_pdf = scipy.stats.norm.pdf(x_pdf, 1.21, 1)\n",
        "plt.plot(x_pdf, y_pdf/10, c='r')\n",
        "\n",
        "x_pdf = np.linspace(-3, 7, 100)\n",
        "y_pdf = scipy.stats.norm.pdf(x_pdf, 2.28, 1)\n",
        "plt.plot(x_pdf, y_pdf/10, c='r')\n",
        "\n",
        "x_pdf = np.linspace(-3, 7, 100)\n",
        "y_pdf = scipy.stats.norm.pdf(x_pdf, 1.01, 1)\n",
        "plt.plot(x_pdf, y_pdf/10, c='r')\n",
        "\n",
        "x_pdf = np.linspace(-3, 7, 100)\n",
        "y_pdf = scipy.stats.norm.pdf(x_pdf, 1.00, 1)\n",
        "plt.plot(x_pdf, y_pdf/10, c='r')\n",
        "\n",
        "x_pdf = np.linspace(-3, 7, 100)\n",
        "y_pdf = scipy.stats.norm.pdf(x_pdf, 4.50, 1)\n",
        "plt.plot(x_pdf, y_pdf/10, c='r')\n",
        "\n",
        "x_pdf = np.linspace(-3, 7, 100)\n",
        "y_pdf = scipy.stats.norm.pdf(x_pdf, 1.96, 1)\n",
        "plt.plot(x_pdf, y_pdf/10, c='r')\n",
        "\n",
        "x_pdf = np.linspace(-3, 7, 100)\n",
        "y_pdf = scipy.stats.norm.pdf(x_pdf, 3.67, 1)\n",
        "plt.plot(x_pdf, y_pdf/10, c='r')\n",
        "\n",
        "x_pdf = np.linspace(-3, 7, 100)\n",
        "y_pdf = scipy.stats.norm.pdf(x_pdf, 2.55, 1)\n",
        "plt.plot(x_pdf, y_pdf/10, c='r')\n",
        "\n",
        "\n",
        "plt.xlabel('length')\n",
        "plt.show()"
      ],
      "metadata": {
        "id": "Qkl0aBEH24Bu"
      },
      "execution_count": null,
      "outputs": []
    },
    {
      "cell_type": "code",
      "source": [
        "sns.distplot(numeric_data['length'], kde=True, rug=True, hist=False, color='red', bins=np.arange(0, 6, 1))\n",
        "plt.xlabel('length')\n",
        "plt.show()"
      ],
      "metadata": {
        "id": "ZzXGAf7Mw1JV"
      },
      "execution_count": null,
      "outputs": []
    },
    {
      "cell_type": "markdown",
      "metadata": {
        "id": "RmIwevvm8eCp"
      },
      "source": [
        "### 3-13 実装：カーネル密度推定によるヒストグラム平滑化\n",
        "\n",
        "カーネル密度推定を実行します。"
      ]
    },
    {
      "cell_type": "markdown",
      "source": [
        "#### 13-A 基本的な実装\n",
        "\n",
        "seabornのkdeplot関数を使うことで、カーネル密度推定の結果を簡単に得ることができます。fill=Trueとすることで曲線の下側を塗りつぶします。\n",
        "\n",
        "ヒストグラムと異なり、滑らかな結果が得られます。ただし、体長データにもかかわらず、負の値でも0より大きい密度が得られています。0以上のデータや離散型のデータに対してカーネル密度推定を実行すると、やや直感と異なる結果が得られることもあるので注意してください。このような場合はヒストグラムを用います。"
      ],
      "metadata": {
        "id": "MdCAJA4i-hWH"
      }
    },
    {
      "cell_type": "code",
      "execution_count": null,
      "metadata": {
        "id": "6-I-SnHR8eCp"
      },
      "outputs": [],
      "source": [
        "sns.kdeplot(numeric_data.length, fill=True, color='gray')"
      ]
    },
    {
      "cell_type": "markdown",
      "source": [
        "#### 13-B バンド幅の変更\n",
        "\n",
        "参考までにバンド幅を変更した結果を確認します。bw_adjustを小さくすると変動が大きくなります。逆にbw_adjustを大きくすると、滑らかな結果が得られます。\n",
        "\n",
        "以下はグラフ描画方法の補足です。グラフ描画関数sns.kdeplotを連続で実行することでグラフを上書きしています。linestyleの指定をすることで、線の種類をはせんなどに変更できます。labelを設定した後でplt.legend関数を適用すると凡例を表示できます。"
      ],
      "metadata": {
        "id": "M6A9mL4G_lVT"
      }
    },
    {
      "cell_type": "code",
      "execution_count": null,
      "metadata": {
        "id": "JmrAKRdJ8eCp"
      },
      "outputs": [],
      "source": [
        "# バンド幅を変えた3種類のカーネル密度推定の結果\n",
        "sns.kdeplot(numeric_data.length,\n",
        "            color='black', label='default')\n",
        "sns.kdeplot(numeric_data.length,\n",
        "            color='black', bw_adjust=0.4,\n",
        "            linestyle='dashed', label='bw_adjust=0.4')\n",
        "sns.kdeplot(numeric_data.length,\n",
        "            color='black', bw_adjust=2,\n",
        "            linestyle='dotted', label='bw_adjust=2')\n",
        "\n",
        "plt.legend() # 凡例"
      ]
    },
    {
      "cell_type": "code",
      "source": [],
      "metadata": {
        "id": "1LZyh5AUgzFd"
      },
      "execution_count": null,
      "outputs": []
    },
    {
      "cell_type": "markdown",
      "metadata": {
        "id": "1j7-LU1VA2EQ"
      },
      "source": [
        "## 4章　1変量データの統計量\n",
        "\n",
        "本章では1変量データを対象としたさまざまな統計量を紹介し、Pythonでの実装方法を解説します。統計量の説明では数式を使います。数式が難しいと感じたら第3部第2章を参照してください。プログラムが難しいと感じたら、第2部第3章と第4章を参照してください。 サンプルサイズ・合計値・平均値という単純な指標から紹介し、データのばらつきを評価する指標である分散と標準偏差を解説します。続いて分散を利用した変動係数・標準化について解説します。 次にデータを昇順に並び替えたうえで、順位に基づく統計量を導入します。そして最頻値と呼ばれる度数に基づく統計量を導入します。最後に、さまざまな指標をまとめて計算できる便利な関数を紹介します。"
      ]
    },
    {
      "cell_type": "markdown",
      "metadata": {
        "id": "b5umcAflA2EV"
      },
      "source": [
        "### 4-1 実装：分析の準備\n",
        "\n",
        "必要なライブラリの読み込みなどを行います。scipyは科学技術計算を行う際に便利なライブラリです。scipyから特に統計処理に特化したstatsモジュールを読み込みました。"
      ]
    },
    {
      "cell_type": "code",
      "execution_count": null,
      "metadata": {
        "id": "MIOu6_0OA2EW"
      },
      "outputs": [],
      "source": [
        "# 数値計算に使うライブラリ\n",
        "import numpy as np\n",
        "import pandas as pd\n",
        "\n",
        "# 複雑な統計処理を行うライブラリ\n",
        "from scipy import stats"
      ]
    },
    {
      "cell_type": "code",
      "execution_count": null,
      "metadata": {
        "id": "8r77PWHuA2EX"
      },
      "outputs": [],
      "source": [
        "# 表示設定(書籍本文のレイアウトと合わせるためであり、必須ではありません)\n",
        "np.set_printoptions(linewidth=60)"
      ]
    },
    {
      "cell_type": "markdown",
      "metadata": {
        "id": "6u6Xu958A2EY"
      },
      "source": [
        "### 4-2 分析対象となるデータの用意\n",
        "\n",
        "分析対象となるデータを用意します。2通りの方法で同じデータを用意します。"
      ]
    },
    {
      "cell_type": "markdown",
      "metadata": {
        "id": "bLS84bGgA2EY"
      },
      "source": [
        "#### 2-A numpyアレイで用意\n",
        "\n",
        "numpyのアレイでデータを用意します。魚の体長を10個体だけ記録したデータです。名前はfish_lengthとします。"
      ]
    },
    {
      "cell_type": "code",
      "execution_count": null,
      "metadata": {
        "id": "LwkL6oOOA2EY"
      },
      "outputs": [],
      "source": [
        "fish_length = np.array([2,3,3,4,4,4,4,5,5,6])\n",
        "fish_length"
      ]
    },
    {
      "cell_type": "markdown",
      "metadata": {
        "id": "9C-gEEq_A2Ea"
      },
      "source": [
        "#### 2-B CSVファイルから読み込み\n",
        "\n",
        "データはCSVファイルとして保存することが多いと思います。アレイで用意したデータと同じデータを、pandasのデータフレームとして読み込みます。名前は末尾に_dfをつけてfish_length_dfとします。"
      ]
    },
    {
      "cell_type": "code",
      "source": [
        "import io\n",
        "from google.colab import files\n",
        "uploaded = files.upload()"
      ],
      "metadata": {
        "id": "3QHWiPrQObuK"
      },
      "execution_count": null,
      "outputs": []
    },
    {
      "cell_type": "code",
      "execution_count": null,
      "metadata": {
        "id": "I8D5G5hkA2Ea"
      },
      "outputs": [],
      "source": [
        "# データの読み込み\n",
        "# fish_length_df = pd.read_csv('3-4-1-fish-length.csv')\n",
        "fish_length_df = pd.read_csv(io.BytesIO(uploaded['3-4-1-fish-length.csv']))\n",
        "print(fish_length_df)"
      ]
    },
    {
      "cell_type": "markdown",
      "metadata": {
        "id": "OT5gYB3SA2Eb"
      },
      "source": [
        "#### 2-C データフレームとアレイの変換\n",
        "\n",
        "第2部第4章の復習ですが、データフレームをアレイに変換することは難しくありません。1変量の場合は、列名を指定したうえでさらにto_numpy()とつけることでアレイとして扱えます。すなわちfish_length_df.length.to_numpy()はアレイであるfish_lengthと同様に扱えます。これは以下のコードで確認できます。すべての要素がTrueなので、すべて等しいことがわかります。"
      ]
    },
    {
      "cell_type": "code",
      "execution_count": null,
      "metadata": {
        "id": "GouPENRSA2Eb"
      },
      "outputs": [],
      "source": [
        "# データフレームもアレイに変換できる\n",
        "fish_length_array = fish_length_df.length.to_numpy()\n",
        "print(fish_length_array)\n",
        "\n",
        "fish_length_df.length.to_numpy() == fish_length"
      ]
    },
    {
      "cell_type": "markdown",
      "metadata": {
        "id": "DmsDjfrXA2Eb"
      },
      "source": [
        "### 4-3 実装：サンプルサイズ\n",
        "\n",
        "標本のサンプルサイズを取得します。len関数を使います。まずはアレイに適用します。10個のデータがあるので結果は10です。"
      ]
    },
    {
      "cell_type": "code",
      "execution_count": null,
      "metadata": {
        "id": "jQs-qr2MA2Eb"
      },
      "outputs": [],
      "source": [
        "# サンプルサイズ\n",
        "len(fish_length)"
      ]
    },
    {
      "cell_type": "markdown",
      "source": [
        "続いてデータフレームに適用します。len関数を使うことで行数が取得できます。"
      ],
      "metadata": {
        "id": "CiCFo_vvRYhB"
      }
    },
    {
      "cell_type": "code",
      "execution_count": null,
      "metadata": {
        "id": "SphiPuJZA2Ec"
      },
      "outputs": [],
      "source": [
        "# サンプルサイズ(データフレームの行数)\n",
        "len(fish_length_df)"
      ]
    },
    {
      "cell_type": "markdown",
      "source": [
        "データフレームはアレイに変換してから処理をしても構いませんし、データフレームのまま処理を実行できることもあります。両方のやり方を知っておくと便利です。しかし、複数のやり方を併記すると混乱を招くかもしれません。本章では、基本的にアレイを対象に実行します。 ただしnumpyとpandasで「同じ名前の関数なのに、処理の結果が異なる」ということもまれにあります。その場合には適宜注意を促します。"
      ],
      "metadata": {
        "id": "P1rpHGf6UgKC"
      }
    },
    {
      "cell_type": "markdown",
      "metadata": {
        "id": "X5KNlladA2Ec"
      },
      "source": [
        "### 4-4 実装：合計値\n",
        "\n",
        "標本の合計値を計算します。いろいろな実装方法があります。本節ではアレイとデータフレームの両方を対象とします。"
      ]
    },
    {
      "cell_type": "markdown",
      "metadata": {
        "id": "rKln5OqKA2Ec"
      },
      "source": [
        "#### 4-A 基本的な計算方法\n",
        "\n",
        "合計値を計算するだけでもいろいろな方法があります。読者の方が混乱するのを避けるために、本書ではなるべくnumpyの関数を利用する方法で統一します。必要に応じてscipyのstatsの機能を使います。\n",
        "\n",
        "numpyの関数を使って合計値を計算する場合はnp.sum関数を使います。まずはアレイを対象に適用します。結果は2+3+3+4+4+4+4+5+5+6=40です。データフレームにも同様に適用できます。"
      ]
    },
    {
      "cell_type": "code",
      "execution_count": null,
      "metadata": {
        "id": "Embbl4ZRA2Ec"
      },
      "outputs": [],
      "source": [
        "# 合計\n",
        "np.sum(fish_length)"
      ]
    },
    {
      "cell_type": "code",
      "execution_count": null,
      "metadata": {
        "id": "06Vx49awA2Ec"
      },
      "outputs": [],
      "source": [
        "# 合計\n",
        "np.sum(fish_length_df)"
      ]
    },
    {
      "cell_type": "markdown",
      "metadata": {
        "id": "poYeFDSkA2Ed"
      },
      "source": [
        "#### 4-B その他の計算方法\n",
        "\n",
        "Pythonを扱った教科書によっては以下のような方法が提示されていることもあると思います。結果は変わりませんが、読者の混乱を防ぐために、本書では明示的にnp.sum関数を使う方法を中心に使います。"
      ]
    },
    {
      "cell_type": "code",
      "execution_count": null,
      "metadata": {
        "id": "VzZyiVY9A2Ed"
      },
      "outputs": [],
      "source": [
        "# アレイが持つsum関数を実行\n",
        "fish_length.sum()"
      ]
    },
    {
      "cell_type": "code",
      "execution_count": null,
      "metadata": {
        "id": "yDYyq7Q2A2Ed"
      },
      "outputs": [],
      "source": [
        "# データフレームが持つ関数を実行\n",
        "fish_length_df.sum()"
      ]
    },
    {
      "cell_type": "markdown",
      "metadata": {
        "id": "ScSWW6inA2Ed"
      },
      "source": [
        "### 4-5 実装：標本平均\n",
        "\n",
        "標本平均を計算します。平均値の計算式を再掲します。ただしは標本$x^̄$の平均値であり、nはサンプルサイズです。"
      ]
    },
    {
      "cell_type": "markdown",
      "metadata": {
        "id": "MEVssW5BA2Ed"
      },
      "source": [
        "#### 5-A 計算方法の確認\n",
        "\n",
        "アレイを対象にして、Pythonで平均値を計算します。標本平均を定義通りに実装します。まずはサンプルサイズを取得します。続いて合計値を計算します。合計値をサンプルサイズで除すことで平均値が計算できます。"
      ]
    },
    {
      "cell_type": "code",
      "execution_count": null,
      "metadata": {
        "id": "-8fEfqKtA2Ee"
      },
      "outputs": [],
      "source": [
        "# サンプルサイズ\n",
        "n = len(fish_length)\n",
        "n"
      ]
    },
    {
      "cell_type": "code",
      "execution_count": null,
      "metadata": {
        "id": "3w0fhoBbA2Ee"
      },
      "outputs": [],
      "source": [
        "# 合計値\n",
        "sum_value = np.sum(fish_length)\n",
        "sum_value"
      ]
    },
    {
      "cell_type": "code",
      "execution_count": null,
      "metadata": {
        "id": "QQPkjkhNA2Ee"
      },
      "outputs": [],
      "source": [
        "# 平均値の計算\n",
        "x_bar = sum_value / n\n",
        "x_bar"
      ]
    },
    {
      "cell_type": "markdown",
      "metadata": {
        "id": "5nEwTd_BA2Ee"
      },
      "source": [
        "#### 5-B 関数を使った効率的な実装\n"
      ]
    },
    {
      "cell_type": "code",
      "execution_count": null,
      "metadata": {
        "id": "WQ_X1e71A2Ef"
      },
      "outputs": [],
      "source": [
        "# 関数を使った平均値の計算\n",
        "np.mean(fish_length)"
      ]
    },
    {
      "cell_type": "markdown",
      "source": [
        "### 4-6 用語：標本分散\n",
        "\n",
        "データのばらつきを評価する指標である分散を導入します。"
      ],
      "metadata": {
        "id": "5IGQFmdU2ivP"
      }
    },
    {
      "cell_type": "markdown",
      "source": [
        "#### 6-A 分散の定義\n",
        "\n",
        "平たく言うと、分散は「データが平均値とどれだけ離れているか」を表した指標です。標本から計算された分散を標本分散と呼びます。 平均値はデータの代表値としてしばしば使われます。しかし、その代表値がデータとかけ離れているときに、代表値だけを見てデータの解釈をするのは危険です。 平均値の近くにデータがちゃんと寄っていれば、標本分散は小さくなります。データが平均値から遠くに離れているようであれば、標本分散は大きくなります。 本書では、標本分散を記号s2と表記します。計算式に2乗する処理が入っているので、記号にもそれを入れています。\n",
        "\n",
        "$s^2=\\frac{1}{n}Σ_{i=1}^n(x_i-x^̄)^2$\n",
        "\n",
        "平均値$x^̄$と個別のデータ$x_i$が離れていれば離れているほど、$(x_i-x^̄)^2$は大きな値をとります。$(x_i-x^̄)^2$は平均値とデータとの距離のようなものだとみなせます。なお、データと平均値の差を**偏差**と呼び、分散の分子を**偏差平方和**と呼びます。"
      ],
      "metadata": {
        "id": "k5BKKj2U2rhP"
      }
    },
    {
      "cell_type": "markdown",
      "source": [
        "#### 6-B 分散の定義\n",
        "\n",
        "補足的に、厳密ではありませんが分散の直観的なイメージを共有します。 平均と分散という2つの指標を使うことで、データのおおよその形状を知ることができます。図3-4-1は、横軸に魚の体長を置いた模式図です。黒丸や白丸は、データ点を示しています。グレーの範囲が私たちのイメージする「データの形状」だと思ってください。\n",
        "\n",
        "![3-4-1.png](data:image/png;base64,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)\n",
        "\n",
        "データの範囲を見るだけならば、最大値・最小値を見るだけで十分です。しかし「たまたま1つか２つ極端な値があっただけ」でも、最大値・最小値の幅は広くなってしまいます。\n",
        "\n",
        "例えば図3-4-2では、2つの標本において、最大値と最小値の幅はほぼ同じになっています。しかし、直観的には「データの形状」が異なっているとみなしたいところですね。分散は「データが平均値とどれだけ離れているか」を表した指標なので、このようなときに効果を発揮します。\n",
        "\n",
        "![3-4-2.png](data:image/png;base64,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)\n",
        "\n",
        "なお、平均値と分散だけでは、データの形状を正しく判断できないこともしばしばあります。この場合は、ヒストグラムなども利用しましょう。"
      ],
      "metadata": {
        "id": "XHAZ9tU65zQX"
      }
    },
    {
      "cell_type": "markdown",
      "metadata": {
        "id": "gVstwOBiA2Ef"
      },
      "source": [
        "### 4-7 実装：標本分散\n",
        "\n",
        "アレイを対象にして標本分散を計算します。"
      ]
    },
    {
      "cell_type": "markdown",
      "metadata": {
        "id": "7R-MsD2qA2Ef"
      },
      "source": [
        "#### 7-A 計算方法の確認\n",
        "\n",
        "アレイを対象にして標本分散を計算します。"
      ]
    },
    {
      "cell_type": "code",
      "execution_count": null,
      "metadata": {
        "id": "0cTm2y-XA2Ef"
      },
      "outputs": [],
      "source": [
        "# 標本分散\n",
        "s2 = np.sum((fish_length - x_bar) ** 2) / n\n",
        "s2"
      ]
    },
    {
      "cell_type": "markdown",
      "metadata": {
        "id": "_0qQVskbA2Eg"
      },
      "source": [
        "#### 7-B 実装コードの解読\n",
        "\n",
        "コードがやや複雑なので、順を追って実装コードの解説をします。まずはアレイで用意した魚の体長データxiを確認します。"
      ]
    },
    {
      "cell_type": "code",
      "execution_count": null,
      "metadata": {
        "id": "O1rCceS_A2Eg"
      },
      "outputs": [],
      "source": [
        "fish_length"
      ]
    },
    {
      "cell_type": "code",
      "execution_count": null,
      "metadata": {
        "id": "dv62JM4UA2Eg"
      },
      "outputs": [],
      "source": [
        "fish_length - x_bar"
      ]
    },
    {
      "cell_type": "code",
      "execution_count": null,
      "metadata": {
        "id": "uI6AvnYzA2Eg"
      },
      "outputs": [],
      "source": [
        "(fish_length - x_bar) ** 2"
      ]
    },
    {
      "cell_type": "code",
      "execution_count": null,
      "metadata": {
        "id": "fOE4LWShA2Eh"
      },
      "outputs": [],
      "source": [
        "np.sum((fish_length - x_bar) ** 2)"
      ]
    },
    {
      "cell_type": "markdown",
      "metadata": {
        "id": "SkRC01psA2Eh"
      },
      "source": [
        "#### 7-B 関数を使った効率的な実装\n",
        "\n",
        "np.var関数を使うと簡単に計算できます。ただし間違いをなくすためにddof=0という引数は必ず指定してください。ddofという引数の意味は4-9節で解説します。"
      ]
    },
    {
      "cell_type": "code",
      "execution_count": null,
      "metadata": {
        "id": "vgREdCN5A2Eh"
      },
      "outputs": [],
      "source": [
        "# 関数を使った標本分散\n",
        "np.var(fish_length, ddof=0)"
      ]
    },
    {
      "cell_type": "markdown",
      "source": [
        "### 4-7 用語：不偏分散\n",
        "\n",
        "記述統計で分散と呼ぶ場合は、標本分散s2を指すことが多いです。ただし、本書では第5部以降で推測統計を解説します。推測統計では不偏分散や不偏標本分散と呼ばれる分散を使うことが多いです。不偏分散は以下のようにして計算されます。本書では見分けをつけやすくするため、不偏分散を記号u2と表記します。「不偏」の英語であるunbiasedの頭文字を意図しています。\n",
        "\n",
        "サンプルサイズではなく、サンプルサイズから1を差し引いたもので除します。 不偏分散を理解するためには、推測統計の考え方を理解する必要があります。そのため現時点で不偏分散について理解できなくても大丈夫です。詳しくは第5部第4章で解説します。ここでは、不偏分散の役割を直観的に紹介するにとどめます。"
      ],
      "metadata": {
        "id": "KYnyM0ER_5C2"
      }
    },
    {
      "cell_type": "markdown",
      "metadata": {
        "id": "A72jMR0BA2Eh"
      },
      "source": [
        "### 4-9 実装：不偏分散"
      ]
    },
    {
      "cell_type": "markdown",
      "metadata": {
        "id": "fRfG5OLGA2El"
      },
      "source": [
        "#### 9-A 計算方法の確認"
      ]
    },
    {
      "cell_type": "code",
      "execution_count": null,
      "metadata": {
        "id": "9Huc7nrrA2Em"
      },
      "outputs": [],
      "source": [
        "# 不偏分散\n",
        "u2 = np.sum((fish_length - x_bar) ** 2) / (n - 1)\n",
        "u2"
      ]
    },
    {
      "cell_type": "code",
      "execution_count": null,
      "metadata": {
        "id": "c84FPs-AA2Em"
      },
      "outputs": [],
      "source": [
        "# 小数点以下第3位で丸める\n",
        "round(u2, 3)"
      ]
    },
    {
      "cell_type": "markdown",
      "metadata": {
        "id": "AHWlJaFyA2Em"
      },
      "source": [
        "#### 9-B 関数を使った効率的な実装"
      ]
    },
    {
      "cell_type": "code",
      "execution_count": null,
      "metadata": {
        "id": "5dTTTxffA2Em"
      },
      "outputs": [],
      "source": [
        "# 不偏分散\n",
        "round(np.var(fish_length, ddof=1), 3)"
      ]
    },
    {
      "cell_type": "markdown",
      "metadata": {
        "id": "cXdGc_XzA2Em"
      },
      "source": [
        "#### 9-C ライブラリの違いに注意\n",
        "\n",
        "numpyとpandasでともにvarという関数があり、両者は違うことに注意してください。numpyのvar関数では、ddofを指定しない場合は標本分散を計算する。一方で、pandasのvar関数では、ddofを指定しない場合は不偏分散を計算する。"
      ]
    },
    {
      "cell_type": "code",
      "execution_count": null,
      "metadata": {
        "id": "tPu7L0yAA2Em"
      },
      "outputs": [],
      "source": [
        "# numpy(標準は標本分散)\n",
        "np.var(fish_length_df)"
      ]
    },
    {
      "cell_type": "code",
      "execution_count": null,
      "metadata": {
        "id": "RMUeMtNFA2En"
      },
      "outputs": [],
      "source": [
        "# pandas(標準は不偏分散)\n",
        "fish_length_df.var()"
      ]
    },
    {
      "cell_type": "code",
      "execution_count": null,
      "metadata": {
        "id": "UgtivMmDA2En"
      },
      "outputs": [],
      "source": [
        "# ddofを指定\n",
        "fish_length_df.var(ddof=0)"
      ]
    },
    {
      "cell_type": "code",
      "execution_count": null,
      "metadata": {
        "id": "ZbG6dT_hA2En"
      },
      "outputs": [],
      "source": [
        "# 参考：ライブラリのバージョン(書籍には載っていないコードです)\n",
        "print('numpyのバージョン', np.__version__)\n",
        "print('pandasのバージョン', pd.__version__)"
      ]
    },
    {
      "cell_type": "markdown",
      "source": [
        "### 4-10 用語：標準偏差\n",
        "\n",
        "標準偏差とは、分散の平方根をとったものです。分散はデータを2乗することで計算されている。\n",
        "\n",
        "$s=\\sqrt{s^2}=\\sqrt{\\frac{1}{n}Σ_{i=1}^n(x_i-x^̄)^2}$"
      ],
      "metadata": {
        "id": "f86YeiotTZC2"
      }
    },
    {
      "cell_type": "markdown",
      "metadata": {
        "id": "EXDg8C0KA2En"
      },
      "source": [
        "### 4-11 実装：標準偏差"
      ]
    },
    {
      "cell_type": "markdown",
      "metadata": {
        "id": "DVCgkCjeA2En"
      },
      "source": [
        "#### 11-A 計算方法の確認"
      ]
    },
    {
      "cell_type": "code",
      "execution_count": null,
      "metadata": {
        "id": "7e1TnggDA2En"
      },
      "outputs": [],
      "source": [
        "# 標準偏差\n",
        "s = np.sqrt(s2)\n",
        "round(s, 3)"
      ]
    },
    {
      "cell_type": "markdown",
      "metadata": {
        "id": "t1I_npT_A2En"
      },
      "source": [
        "#### 11-B 関数を使った効率的な実装"
      ]
    },
    {
      "cell_type": "code",
      "execution_count": null,
      "metadata": {
        "id": "x97bR5R0A2Eo"
      },
      "outputs": [],
      "source": [
        "# 関数を使った標準偏差\n",
        "round(np.std(fish_length, ddof=0), 3)"
      ]
    },
    {
      "cell_type": "markdown",
      "source": [
        "### 4-12 用語：変動係数\n",
        "\n",
        "平均値と標準偏差の比を変動係数と呼ぶ。変動係数(coefficient of variation, CV)は下記の式で計算する。計算した結果を100倍にして%表記にすることもあります。\n",
        "\n",
        "$CV=\\frac{s}{x^̄}$"
      ],
      "metadata": {
        "id": "EW3wO468ff0g"
      }
    },
    {
      "cell_type": "markdown",
      "metadata": {
        "id": "_h3nHsrJA2Eo"
      },
      "source": [
        "### 4-13 実装：変動係数"
      ]
    },
    {
      "cell_type": "markdown",
      "metadata": {
        "id": "b1GB2NKqA2Eo"
      },
      "source": [
        "#### 13-A 計算方法の確認"
      ]
    },
    {
      "cell_type": "code",
      "execution_count": null,
      "metadata": {
        "id": "vEsAsP78A2Eo"
      },
      "outputs": [],
      "source": [
        "cv = s / x_bar\n",
        "round(cv, 3)"
      ]
    },
    {
      "cell_type": "markdown",
      "metadata": {
        "id": "WVfoWP0-A2Ep"
      },
      "source": [
        "#### 13-B 関数を使った効率的な実装"
      ]
    },
    {
      "cell_type": "code",
      "execution_count": null,
      "metadata": {
        "id": "3p1PqKhWA2Ep"
      },
      "outputs": [],
      "source": [
        "round(stats.variation(fish_length), 3)"
      ]
    },
    {
      "cell_type": "code",
      "execution_count": null,
      "metadata": {
        "id": "cFd1BJ65A2Ep"
      },
      "outputs": [],
      "source": [
        "# 不偏分散を使った変動係数の計算\n",
        "round(stats.variation(fish_length, ddof=1), 3)"
      ]
    },
    {
      "cell_type": "code",
      "execution_count": null,
      "metadata": {
        "id": "6vbLrj5LA2Ep"
      },
      "outputs": [],
      "source": [
        "# 参考：不偏分散を使った変動係数の計算(書籍には載っていないコードです)\n",
        "round(np.sqrt(u2) / x_bar, 3)"
      ]
    },
    {
      "cell_type": "code",
      "execution_count": null,
      "metadata": {
        "id": "qVlDkxQkA2Eq"
      },
      "outputs": [],
      "source": [
        "# 参考：ライブラリのバージョン(書籍には載っていないコードです)\n",
        "import scipy\n",
        "print(scipy.__version__)"
      ]
    },
    {
      "cell_type": "markdown",
      "metadata": {
        "id": "iJqVKVPBA2Eq"
      },
      "source": [
        "#### 13-C 変動係数を使う注意点"
      ]
    },
    {
      "cell_type": "code",
      "execution_count": null,
      "metadata": {
        "id": "rFoddAH-A2Eq"
      },
      "outputs": [],
      "source": [
        "# 冬の気温と夏の気温\n",
        "winter = np.array([1,1,1,2,2,2])\n",
        "summer = np.array([29,29,29,30,30,30])"
      ]
    },
    {
      "cell_type": "code",
      "execution_count": null,
      "metadata": {
        "id": "tmGI6SNPA2Eq"
      },
      "outputs": [],
      "source": [
        "# 標準偏差の比較\n",
        "print('冬の気温の標準偏差：', np.std(winter, ddof=0))\n",
        "print('夏の気温の標準偏差：', np.std(summer, ddof=0))"
      ]
    },
    {
      "cell_type": "code",
      "execution_count": null,
      "metadata": {
        "id": "GUAFNQX3A2Eq"
      },
      "outputs": [],
      "source": [
        "# 変動係数の比較\n",
        "print('冬の気温の変動係数：', round(stats.variation(winter), 3))\n",
        "print('夏の気温の変動係数：', round(stats.variation(summer), 3))"
      ]
    },
    {
      "cell_type": "markdown",
      "metadata": {
        "id": "FpWIDN0bA2Er"
      },
      "source": [
        "### 4-15 実装：標準化"
      ]
    },
    {
      "cell_type": "markdown",
      "metadata": {
        "id": "_AFra85zA2Er"
      },
      "source": [
        "#### 15-A 計算方法の確認"
      ]
    },
    {
      "cell_type": "code",
      "execution_count": null,
      "metadata": {
        "id": "rxkXLSkRA2Er"
      },
      "outputs": [],
      "source": [
        "z = (fish_length - x_bar) / s\n",
        "np.round(z, 3)"
      ]
    },
    {
      "cell_type": "code",
      "execution_count": null,
      "metadata": {
        "id": "vmZhzt6aA2Er"
      },
      "outputs": [],
      "source": [
        "# z得点の平均値はほぼ0\n",
        "np.mean(z)"
      ]
    },
    {
      "cell_type": "code",
      "execution_count": null,
      "metadata": {
        "id": "c_NEc6WqA2Er"
      },
      "outputs": [],
      "source": [
        "# z得点の標準偏差はほぼ1\n",
        "np.std(z, ddof=0)"
      ]
    },
    {
      "cell_type": "markdown",
      "metadata": {
        "id": "RHMXK-hxA2Er"
      },
      "source": [
        "#### 15-B 関数を使った効率的な実装"
      ]
    },
    {
      "cell_type": "code",
      "execution_count": null,
      "metadata": {
        "id": "QwzfjnZSA2Es"
      },
      "outputs": [],
      "source": [
        "np.round(stats.zscore(fish_length, ddof=0), 3)"
      ]
    },
    {
      "cell_type": "markdown",
      "metadata": {
        "id": "e9mKROkLA2Es"
      },
      "source": [
        "### 4-17 実装：最大値と最小値"
      ]
    },
    {
      "cell_type": "code",
      "execution_count": null,
      "metadata": {
        "id": "H-IMYZlgA2Es"
      },
      "outputs": [],
      "source": [
        "# 最小\n",
        "np.amin(fish_length)"
      ]
    },
    {
      "cell_type": "code",
      "execution_count": null,
      "metadata": {
        "id": "HpXmtuZTA2Es"
      },
      "outputs": [],
      "source": [
        "# 最大\n",
        "np.amax(fish_length)"
      ]
    },
    {
      "cell_type": "markdown",
      "metadata": {
        "id": "lr9HHVAiA2Et"
      },
      "source": [
        "### 4-18 実装：中央値"
      ]
    },
    {
      "cell_type": "markdown",
      "metadata": {
        "id": "c6UbNKp_A2Et"
      },
      "source": [
        "#### 18-A 中央値の実装"
      ]
    },
    {
      "cell_type": "code",
      "execution_count": null,
      "metadata": {
        "id": "kKayFj54A2Et"
      },
      "outputs": [],
      "source": [
        "# 中央値\n",
        "np.median(fish_length)"
      ]
    },
    {
      "cell_type": "markdown",
      "metadata": {
        "id": "rl5ioqIDA2Eu"
      },
      "source": [
        "#### 18-B 平均値と中央値の違い"
      ]
    },
    {
      "cell_type": "code",
      "execution_count": null,
      "metadata": {
        "id": "GNS8O2rrA2Eu"
      },
      "outputs": [],
      "source": [
        "# 外れ値のあるデータ\n",
        "fish_length_2 = np.array([2,3,3,4,4,4,4,5,5,100])"
      ]
    },
    {
      "cell_type": "code",
      "execution_count": null,
      "metadata": {
        "id": "dqzAvSB-A2Eu"
      },
      "outputs": [],
      "source": [
        "# 平均値と中央値の比較\n",
        "print('平均値：', np.mean(fish_length_2))\n",
        "print('中央値：', np.median(fish_length_2))"
      ]
    },
    {
      "cell_type": "markdown",
      "metadata": {
        "id": "SAhXZuPmA2Eu"
      },
      "source": [
        "### 4-19 実装：四分位点"
      ]
    },
    {
      "cell_type": "code",
      "execution_count": null,
      "metadata": {
        "id": "YjiVgCHaA2Eu"
      },
      "outputs": [],
      "source": [
        "print('第1四分位点', np.quantile(fish_length, q=0.25))\n",
        "print('第3四分位点', np.quantile(fish_length, q=0.75))"
      ]
    },
    {
      "cell_type": "code",
      "execution_count": null,
      "metadata": {
        "id": "_klyNmA5A2Eu"
      },
      "outputs": [],
      "source": [
        "# 別のデータを利用\n",
        "fish_length_3 = np.arange(0, 101, 1)\n",
        "fish_length_3"
      ]
    },
    {
      "cell_type": "code",
      "execution_count": null,
      "metadata": {
        "id": "MssjsYTpA2Ev"
      },
      "outputs": [],
      "source": [
        "# サンプルサイズ\n",
        "len(fish_length_3)"
      ]
    },
    {
      "cell_type": "code",
      "execution_count": null,
      "metadata": {
        "id": "ev5U9RjDA2Ev"
      },
      "outputs": [],
      "source": [
        "print('第1四分位点', np.quantile(fish_length_3, q=0.25))\n",
        "print('第3四分位点', np.quantile(fish_length_3, q=0.75))"
      ]
    },
    {
      "cell_type": "code",
      "execution_count": null,
      "metadata": {
        "id": "JNrxzj6xA2Ev"
      },
      "outputs": [],
      "source": [
        "# 中央値\n",
        "print('中央値：', np.median(fish_length_3))\n",
        "print('50%点 ：', np.quantile(fish_length_3, q=0.5))"
      ]
    },
    {
      "cell_type": "markdown",
      "metadata": {
        "id": "w1r6bM5wA2Ev"
      },
      "source": [
        "### 4-20 実装：最頻値"
      ]
    },
    {
      "cell_type": "code",
      "execution_count": null,
      "metadata": {
        "id": "3ZzJihNDA2Ev"
      },
      "outputs": [],
      "source": [
        "# 元のデータ\n",
        "fish_length"
      ]
    },
    {
      "cell_type": "code",
      "execution_count": null,
      "metadata": {
        "id": "Iw3PHgsMA2Ev"
      },
      "outputs": [],
      "source": [
        "# 最頻値\n",
        "stats.mode(fish_length)"
      ]
    },
    {
      "cell_type": "code",
      "execution_count": null,
      "metadata": {
        "id": "smKQTVV5A2Ew"
      },
      "outputs": [],
      "source": [
        "# 度数が同じなら、小さい値が出力される\n",
        "stats.mode(np.array([1,1,1,1,2,3,3,3,3]))"
      ]
    },
    {
      "cell_type": "markdown",
      "metadata": {
        "id": "_H37SRMKA2Ew"
      },
      "source": [
        "### 4-21 実装：pandasのdescribe関数の利用"
      ]
    },
    {
      "cell_type": "code",
      "execution_count": null,
      "metadata": {
        "id": "O2nFsHgyA2Ew"
      },
      "outputs": [],
      "source": [
        "# 統計量をまとめて算出\n",
        "print(fish_length_df.describe())"
      ]
    },
    {
      "cell_type": "code",
      "source": [],
      "metadata": {
        "id": "f2ujVb5Kh8S6"
      },
      "execution_count": null,
      "outputs": []
    }
  ]
}