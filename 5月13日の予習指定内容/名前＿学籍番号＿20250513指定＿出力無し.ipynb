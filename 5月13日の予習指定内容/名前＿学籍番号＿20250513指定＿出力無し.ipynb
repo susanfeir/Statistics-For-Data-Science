{
  "nbformat": 4,
  "nbformat_minor": 0,
  "metadata": {
    "colab": {
      "provenance": [],
      "toc_visible": true
    },
    "kernelspec": {
      "name": "python3",
      "display_name": "Python 3"
    },
    "language_info": {
      "name": "python"
    }
  },
  "cells": [
    {
      "cell_type": "markdown",
      "metadata": {
        "id": "DWG8suOPNwQE"
      },
      "source": [
        "## 第1部　Scipyの基礎　 (もし線形代数を履修していないなら，飛ばしていい)\n",
        "キーワード：逆行列、固有値、固有ベクトル、最適化"
      ]
    },
    {
      "cell_type": "markdown",
      "metadata": {
        "id": "qQ7lCepONwQE"
      },
      "source": [
        "Scipyは、科学技術計算をするためのライブラリで、多様な数学処理（線形代数の計算、フーリエ変換など）ができます。\n",
        "ここでは、線形代数の逆行列や固有値、方程式の解などを求めてみましょう。なお、これらの用語がわからない方は、ネットで調べるか、1章で紹介した線形代数の参考書等で学習してください。"
      ]
    },
    {
      "cell_type": "markdown",
      "metadata": {
        "id": "PYi9MozhNwQE"
      },
      "source": [
        "### 1.1 Scipyのライブラリのインポート\n",
        "\n",
        "ここでは、Scipyの線形代数用のライブラリをインポートします。\n",
        "「`import scipy as sp`」としてScipyをインポートしますが、ここで「`as sp`」としているので、「`sp.機能名`」と表記することでScipyライブラリを使えるようになっています。\n",
        "\n",
        "以下ではさらに、線形代数用のライブラリを`linalg`、最適化計算（最小値）用の関数を`minimize_scalar`のように、より短い名前で使えるようにします。"
      ]
    },
    {
      "cell_type": "code",
      "source": [
        "# 以下のライブラリを使うので、あらかじめ読み込んでおいてください\n",
        "import numpy as np\n",
        "import numpy.random as random\n",
        "import scipy as sp\n",
        "import pandas as pd\n",
        "from pandas import Series, DataFrame\n",
        "\n",
        "# 可視化ライブラリ\n",
        "import matplotlib.pyplot as plt\n",
        "import matplotlib as mpl\n",
        "import seaborn as sns\n",
        "%matplotlib inline\n",
        "\n",
        "# 小数第3位まで表示\n",
        "%precision 3"
      ],
      "metadata": {
        "id": "JTSpF64DQEV5"
      },
      "execution_count": null,
      "outputs": []
    },
    {
      "cell_type": "code",
      "execution_count": null,
      "metadata": {
        "id": "knWzvul1NwQE"
      },
      "outputs": [],
      "source": [
        "# 線形代数用のライブラリ\n",
        "import scipy.linalg as linalg\n",
        "\n",
        "# 最適化計算（最小値）用の関数\n",
        "from scipy.optimize import minimize_scalar"
      ]
    },
    {
      "cell_type": "markdown",
      "metadata": {
        "id": "TryT0V4_NwQE"
      },
      "source": [
        "### 1.2 行列計算"
      ]
    },
    {
      "cell_type": "markdown",
      "metadata": {
        "id": "bnrli9E4NwQF"
      },
      "source": [
        "#### 行列式と逆行列の計算\n",
        "\n",
        "まずは行列式を計算する例です。次のように`det`関数を使います。"
      ]
    },
    {
      "cell_type": "code",
      "execution_count": null,
      "metadata": {
        "id": "lR307qhgNwQF"
      },
      "outputs": [],
      "source": [
        "matrix = np.array([[1,-1,-1], [-1,1,-1], [-1,-1,1]])\n",
        "\n",
        "# 行列式\n",
        "print('行列式')\n",
        "print(linalg.det(matrix))"
      ]
    },
    {
      "cell_type": "markdown",
      "metadata": {
        "id": "PpnUd24iNwQF"
      },
      "source": [
        "逆行列を計算するには、`inv`関数を使います。"
      ]
    },
    {
      "cell_type": "code",
      "execution_count": null,
      "metadata": {
        "id": "zAPOKc7UNwQF"
      },
      "outputs": [],
      "source": [
        "# 逆行列\n",
        "print('逆行列')\n",
        "print(linalg.inv(matrix))"
      ]
    },
    {
      "cell_type": "markdown",
      "metadata": {
        "id": "5OJasi0jNwQF"
      },
      "source": [
        "値が正しいかどうかを確認してみましょう。もとの行列と逆行列の積は、単位行列のはずです。次のようにして積を求めると、確かに単位行列となっていることがわかります。"
      ]
    },
    {
      "cell_type": "code",
      "execution_count": null,
      "metadata": {
        "id": "sD2iXNGjNwQF"
      },
      "outputs": [],
      "source": [
        "print(matrix.dot(linalg.inv(matrix)))"
      ]
    },
    {
      "cell_type": "markdown",
      "metadata": {
        "id": "Ox_7IQrYNwQF"
      },
      "source": [
        "#### 固有値と固有ベクトル\n",
        "\n",
        "次に、固有値と固有ベクトルを計算してみましょう。`linalg`の`eig`関数を実行すると求められます。"
      ]
    },
    {
      "cell_type": "code",
      "execution_count": null,
      "metadata": {
        "scrolled": true,
        "id": "kvN1EtYONwQF"
      },
      "outputs": [],
      "source": [
        "# 固有値と固有ベクトル\n",
        "eig_value, eig_vector = linalg.eig(matrix)\n",
        "\n",
        "# 固有値と固有ベクトル\n",
        "print('固有値')\n",
        "print(eig_value)\n",
        "print('固有ベクトル')\n",
        "print(eig_vector)"
      ]
    },
    {
      "cell_type": "markdown",
      "metadata": {
        "id": "KtlDYS2aNwQF"
      },
      "source": [
        "### 1.3 ニュートン法"
      ]
    },
    {
      "cell_type": "markdown",
      "metadata": {
        "id": "Y-jlQ5lPNwQF"
      },
      "source": [
        "最後に、最適化計算を使う方法を説明します。\n",
        "\n",
        "#### 方程式の解を求める\n",
        "\n",
        "まずは、方程式の解を求めてみましょう。ここでは、次の2次関数の解を求めることを考えます。"
      ]
    },
    {
      "cell_type": "markdown",
      "metadata": {
        "id": "368rEGcuNwQF"
      },
      "source": [
        "\\begin{eqnarray}\n",
        "f(x) = x^2 + 2x +1\n",
        "\\end{eqnarray}"
      ]
    },
    {
      "cell_type": "markdown",
      "metadata": {
        "id": "jTZTLQTpNwQF"
      },
      "source": [
        "この解は紙と鉛筆で計算することも可能で、解は-1ですが、ここでは解の近似計算でよく使われるニュートン法を使って求めてみましょう。まずは、上の関数をPythonの関数として定義します。"
      ]
    },
    {
      "cell_type": "code",
      "execution_count": null,
      "metadata": {
        "id": "bIzSC1QXNwQF"
      },
      "outputs": [],
      "source": [
        "# 関数の定義\n",
        "def my_function(x):\n",
        "    return (x**2 + 2*x + 1)"
      ]
    },
    {
      "cell_type": "markdown",
      "metadata": {
        "id": "KJJ6WVaUNwQG"
      },
      "source": [
        "次に、$f(x)=0$の解$x$を求めるために、以下で`newton`関数を使います。`newton`関数の1つ目の引数として、いま作成した`my_function`関数をセットし、2つ目の引数には、解を決める条件式となる$f(x)=0$ の$0$をセットします。"
      ]
    },
    {
      "cell_type": "code",
      "execution_count": null,
      "metadata": {
        "id": "DJU-pIG0NwQG"
      },
      "outputs": [],
      "source": [
        "# ニュートン法の読み込み\n",
        "from scipy.optimize import newton\n",
        "\n",
        "# 計算実行\n",
        "print(newton(my_function,0))"
      ]
    },
    {
      "cell_type": "markdown",
      "metadata": {
        "id": "uSiCQENJNwQG"
      },
      "source": [
        "結果は上記のように、ほぼ-1になっている（数値計算をしているため）ことがわかります。"
      ]
    },
    {
      "cell_type": "markdown",
      "metadata": {
        "id": "0wRB54VzNwQG"
      },
      "source": [
        "なお、ニュートン法をはじめて聞いた方は検索をするか、数学の専門書で、最適化や数値計算のコーナーで探してみてください。"
      ]
    },
    {
      "cell_type": "markdown",
      "metadata": {
        "id": "1yjlHGUlNwQG"
      },
      "source": [
        "#### 最小値を求める\n",
        "\n",
        "次に、この同じ関数$f(x)$における、最小値を求めることを考えます。\n",
        "ここでは、`minimize_scalar`関数を使って、下記のようにします。ここで指定している`method`というパラメータで指定している「`Brent`」は、Brent法を使うことを示します。Brent法とは、放物線補間法と黄金分割法（単峰関数の極値、つまり極大値または極小値を求める方法）を組み合わせた方法で、黄金分割法よりも収束が速いのが特徴です。\n",
        "本書では、あまり使わないので、用語等については覚えなくても大丈夫ですが、これら以外にも、さまざまなアプローチ方法があるので、時間がある方は調べてみてください。"
      ]
    },
    {
      "cell_type": "code",
      "execution_count": null,
      "metadata": {
        "id": "JwhZYAKXNwQG"
      },
      "outputs": [],
      "source": [
        "# 計算実行\n",
        "print(minimize_scalar(my_function, method = 'Brent'))"
      ]
    },
    {
      "cell_type": "markdown",
      "metadata": {
        "id": "I4nEQxSYNwQG"
      },
      "source": [
        "　Scipyは、積分や微分法的式などにも使えますが、この章では、いったんこれで終わりにします。Scipyを使った、さまざまな科学計算については、後の章で改めて説明します。"
      ]
    },
    {
      "cell_type": "markdown",
      "metadata": {
        "id": "LqvhF-qWNwQG"
      },
      "source": [
        ">**[やってみよう]**\n",
        ">\n",
        ">`my_function`関数の計算式を$f(x)=0$から、さまざまな関数に変更して、最小値などの計算を実行してみましょう。"
      ]
    },
    {
      "cell_type": "markdown",
      "metadata": {
        "id": "iPsnMM4gNwQG"
      },
      "source": [
        "#### ■ <練習問題 1-1>\n",
        "\n",
        "以下の行列について、行列式を求めてください。\n",
        "\n",
        "$\n",
        "  A = \\left(\n",
        "    \\begin{array}{ccc}\n",
        "      1 & 2 & 3 \\\\\n",
        "      1 & 3 & 2 \\\\\n",
        "      3 & 1 & 2\n",
        "    \\end{array}\n",
        "  \\right)\n",
        "$"
      ]
    },
    {
      "cell_type": "markdown",
      "metadata": {
        "id": "07MLXZ-sNwQG"
      },
      "source": [
        "#### ■ <練習問題 1-2>\n",
        "\n",
        "<練習問題 1-1>と同じ行列について、逆行列、固有値と固有ベクトルを求めてください。"
      ]
    },
    {
      "cell_type": "markdown",
      "metadata": {
        "id": "RP1Z3Vs7NwQG"
      },
      "source": [
        "#### ■ <練習問題 1-3>\n",
        "\n",
        "以下の関数が0となる解を、ニュートン法を用いて求めてみましょう。"
      ]
    },
    {
      "cell_type": "markdown",
      "metadata": {
        "id": "j5W-ZK3YNwQG"
      },
      "source": [
        "\\begin{eqnarray}\n",
        "f(x) = x^3 + 2x+ 1\n",
        "\\end{eqnarray}"
      ]
    },
    {
      "cell_type": "markdown",
      "metadata": {
        "id": "qS86zUP5NN5p"
      },
      "source": [
        "## 第2部 練習問題(8問の中に6問を選んでやってみてください)"
      ]
    },
    {
      "cell_type": "markdown",
      "metadata": {
        "id": "FDwlpI_yNN5p"
      },
      "source": [
        "### ■ <練習問題 2-1> 素数判定\n",
        "\n",
        "（1）10までの素数を表示するプログラムを書いてください。なお、素数とは、1とその数自身以外の約数をもたない正の整数のことをいいます。\n",
        "\n",
        "（2）（1）をさらに一般化して、`N`を自然数として、`N`までの素数を表示する関数を書いてください。"
      ]
    },
    {
      "cell_type": "markdown",
      "metadata": {
        "id": "_QuFzEV8NwQM"
      },
      "source": [
        "### ■ <練習問題 2-2>\n",
        "\n",
        "$y = 5x + 3$ （$x$は$-10$から$10$の値）のグラフを描いてみましょう。"
      ]
    },
    {
      "cell_type": "markdown",
      "metadata": {
        "id": "tPnVKIeKNwQM"
      },
      "source": [
        "### ■  <練習問題 2-3>\n",
        "\n",
        "「$y = sin(x)$」と「$y = cos(x)$」のグラフを重ねて描いてください（$x$は-10から10の値）"
      ]
    },
    {
      "cell_type": "markdown",
      "metadata": {
        "id": "A5D8jnKSSyix"
      },
      "source": [
        "### ■ <練習問題 2-4>\n",
        "\n",
        "\n",
        "ポルトガル語の成績データであるstudent-por.csvのデータを使って、`G3`を目的変数、`G1`を説明変数として単回帰分析を実施し、回帰係数、切片、決定係数を求めてください。"
      ]
    },
    {
      "cell_type": "markdown",
      "metadata": {
        "id": "gq7SU1V7Syix"
      },
      "source": [
        "### ■  <練習問題 2-5>\n",
        "\n",
        "練習問題2-4のデータの実際の散布図と、回帰直線を合わせてグラフ化してください。"
      ]
    },
    {
      "cell_type": "markdown",
      "metadata": {
        "id": "CSq8HstcSyix"
      },
      "source": [
        "### ■  <練習問題 2-6>\n",
        "\n",
        "student-por.csvのデータを使って、`G3`を目的変数、`absences`（欠席数）を説明変数として単回帰分析を実施し、回帰係数、切片、決定係数を求めてください。また、散布図と回帰直線をグラフ化してみましょう。そして、この結果を見て、考察してみましょう。"
      ]
    },
    {
      "cell_type": "markdown",
      "metadata": {
        "id": "CrSzRJO9Syiy"
      },
      "source": [
        "### ■  <練習問題 2-7> 統計の基礎と可視化\n",
        "\n",
        "以下のサイトにあるデータ（ワインの品質）を読み込み、以下の問いに答えてください。\n",
        "\n",
        "http://archive.ics.uci.edu/ml/machine-learning-databases/wine-quality/winequality-red.csv\n",
        "\n",
        "（1）要約統計量（平均、最大値、最小値、標準偏差など）を算出してください。\n",
        "\n",
        "（2）それぞれの変数の分布と、それぞれの変数の関係性（2変数間のみ）がわかるように、グラフ化してみましょう。何かわかる傾向はありますか。"
      ]
    },
    {
      "cell_type": "markdown",
      "metadata": {
        "id": "0gj_nAAVSyiy"
      },
      "source": [
        "### ■  <練習問題 2-8> ローレンツ曲線とジニ係数\n",
        "\n",
        "サンプルデータstudent-mat.csvのデータを使って、以下の問いに答えてください。ここで扱うローレンツ曲線やジニ係数は、貧富の格差（地域別、国別など）を見るための指標として使われています（なお、本問題は少し難易度が高いため、参考程度に見てください。詳細は、以前に紹介した統計学入門などの文献を参照するか、ネットで検索してください）。\n",
        "\n",
        "（1）一期目の数学データについて、男女別に昇順に並び替えをしてください。そして、横軸に人数の累積比率、縦軸に一期目の値の累積比率をとってください。この曲線をローレンツ曲線といいます。このローレンツ曲線を男女別に一期目の数学成績でグラフ化してください。\n",
        "\n",
        "（2）不平等の程度を数値で表したものをジニ係数といいます。この値は、ローレンツ曲線と45度線で囲まれた部分の面積の2倍で定義されて、0から1の値を取ります。値が大きければ大きいほど、不平等の度合いが大きくなります。なお以下のようにジニ係数は定義できます。$\\overline{x}$は平均値です。\n",
        "\n",
        "\\begin{eqnarray}\n",
        "GI=\\sum_{i}\\sum_{j}\\left| \\frac{x_i-x_j}{2n^2 \\overline{x}}\\right|\n",
        "\\end{eqnarray}\n",
        "\n",
        "これを利用して、男女の一期目の成績について、ジニ係数をそれぞれ求めてください。"
      ]
    }
  ]
}