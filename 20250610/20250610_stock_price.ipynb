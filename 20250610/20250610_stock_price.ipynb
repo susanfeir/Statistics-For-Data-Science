{
  "nbformat": 4,
  "nbformat_minor": 0,
  "metadata": {
    "colab": {
      "provenance": []
    },
    "kernelspec": {
      "name": "python3",
      "display_name": "Python 3"
    },
    "language_info": {
      "name": "python"
    }
  },
  "cells": [
    {
      "cell_type": "code",
      "source": [
        "import yfinance as yf\n",
        "import matplotlib.pyplot as plt\n",
        "\n",
        "# Appleの株価データを取得\n",
        "aapl = yf.Ticker(\"AAPL\")\n",
        "\n",
        "# 過去の株価（例えば2023年1月1日〜2023年12月31日）\n",
        "historical_data = aapl.history(start=\"2024-01-01\", end=\"2025-06-09\")\n",
        "\n",
        "# 最新の株価情報\n",
        "current_price = aapl.history(period=\"1d\")  # 当日の株価\n",
        "\n",
        "# 出力\n",
        "print(\"最新の株価:\")\n",
        "print(current_price)\n",
        "\n",
        "print(\"\\n過去の株価データ:\")\n",
        "print(historical_data.tail())  # 最後の数行だけ表示"
      ],
      "metadata": {
        "id": "rjTnmVlueFpK"
      },
      "execution_count": null,
      "outputs": []
    },
    {
      "cell_type": "code",
      "source": [
        "# 期間指定で株価データを取得（過去1年分）\n",
        "data = aapl.history(start=\"2024-06-01\", end=\"2025-06-01\")\n",
        "\n",
        "# 終値（Close）の推移をプロット\n",
        "plt.figure(figsize=(12, 6))\n",
        "plt.plot(data.index, data['Close'], label=\"AAPL Close Price\", color='blue')\n",
        "\n",
        "# タイトル・ラベル\n",
        "plt.title(\"Apple (AAPL) Stock Price - Close\", fontsize=16)\n",
        "plt.xlabel(\"Date\", fontsize=12)\n",
        "plt.ylabel(\"Price (USD)\", fontsize=12)\n",
        "plt.grid(True)\n",
        "plt.legend()\n",
        "\n",
        "# 表示\n",
        "plt.tight_layout()\n",
        "plt.show()"
      ],
      "metadata": {
        "id": "Y81UcrpRMGoJ"
      },
      "execution_count": null,
      "outputs": []
    }
  ]
}